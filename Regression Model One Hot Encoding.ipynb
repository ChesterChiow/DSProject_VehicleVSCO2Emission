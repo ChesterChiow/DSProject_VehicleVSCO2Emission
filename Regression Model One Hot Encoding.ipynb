{
 "cells": [
  {
   "cell_type": "markdown",
   "id": "0e43355a",
   "metadata": {},
   "source": [
    "# Regression Models "
   ]
  },
  {
   "cell_type": "markdown",
   "id": "91aa3344",
   "metadata": {},
   "source": [
    "### Import Essential Libraries\n",
    "\n",
    "> NumPy : Library for Numeric Computations in Python  \n",
    "> Pandas : Library for Data Acquisition and Preparation  \n",
    "> Matplotlib : Low-level library for Data Visualization  \n",
    "> Seaborn : Higher-level library for Data Visualization"
   ]
  },
  {
   "cell_type": "code",
   "execution_count": 93,
   "id": "bbae18b7",
   "metadata": {},
   "outputs": [],
   "source": [
    "import numpy as np\n",
    "import pandas as pd\n",
    "import seaborn as sb\n",
    "import matplotlib.pyplot as plt\n",
    "from sklearn.model_selection import train_test_split\n",
    "from sklearn.linear_model import LinearRegression\n",
    "from sklearn.metrics import mean_squared_error\n",
    "from sklearn.impute import SimpleImputer\n"
   ]
  },
  {
   "cell_type": "markdown",
   "id": "947a89d8",
   "metadata": {},
   "source": [
    "Import the cleaned dataset with no outliers "
   ]
  },
  {
   "cell_type": "code",
   "execution_count": 94,
   "id": "5fde57b8",
   "metadata": {},
   "outputs": [
    {
     "name": "stdout",
     "output_type": "stream",
     "text": [
      "Number of rows: 6282\n",
      "Number of columns: 12\n"
     ]
    }
   ],
   "source": [
    "df = pd.read_csv('CO2 Emissions_Canada_cleaned.csv')\n",
    "df.drop(df.columns[0], axis=1, inplace=True)\n",
    "\n",
    "print(\"Number of rows:\", df.shape[0])\n",
    "print(\"Number of columns:\", df.shape[1])\n"
   ]
  },
  {
   "cell_type": "code",
   "execution_count": 95,
   "id": "c6cd2cea",
   "metadata": {},
   "outputs": [
    {
     "data": {
      "text/html": [
       "<div>\n",
       "<style scoped>\n",
       "    .dataframe tbody tr th:only-of-type {\n",
       "        vertical-align: middle;\n",
       "    }\n",
       "\n",
       "    .dataframe tbody tr th {\n",
       "        vertical-align: top;\n",
       "    }\n",
       "\n",
       "    .dataframe thead th {\n",
       "        text-align: right;\n",
       "    }\n",
       "</style>\n",
       "<table border=\"1\" class=\"dataframe\">\n",
       "  <thead>\n",
       "    <tr style=\"text-align: right;\">\n",
       "      <th></th>\n",
       "      <th>Make</th>\n",
       "      <th>Model</th>\n",
       "      <th>Vehicle Class</th>\n",
       "      <th>Engine Size(L)</th>\n",
       "      <th>Cylinders</th>\n",
       "      <th>Transmission</th>\n",
       "      <th>Fuel Type</th>\n",
       "      <th>Fuel Consumption City (L/100 km)</th>\n",
       "      <th>Fuel Consumption Hwy (L/100 km)</th>\n",
       "      <th>Fuel Consumption Comb (L/100 km)</th>\n",
       "      <th>CO2 Emissions(g/km)</th>\n",
       "      <th>Number of Gears</th>\n",
       "    </tr>\n",
       "  </thead>\n",
       "  <tbody>\n",
       "    <tr>\n",
       "      <th>0</th>\n",
       "      <td>ACURA</td>\n",
       "      <td>ILX</td>\n",
       "      <td>COMPACT</td>\n",
       "      <td>2.0</td>\n",
       "      <td>4</td>\n",
       "      <td>AS</td>\n",
       "      <td>Z</td>\n",
       "      <td>9.9</td>\n",
       "      <td>6.7</td>\n",
       "      <td>8.5</td>\n",
       "      <td>196</td>\n",
       "      <td>5.0</td>\n",
       "    </tr>\n",
       "    <tr>\n",
       "      <th>1</th>\n",
       "      <td>ACURA</td>\n",
       "      <td>ILX</td>\n",
       "      <td>COMPACT</td>\n",
       "      <td>2.4</td>\n",
       "      <td>4</td>\n",
       "      <td>M</td>\n",
       "      <td>Z</td>\n",
       "      <td>11.2</td>\n",
       "      <td>7.7</td>\n",
       "      <td>9.6</td>\n",
       "      <td>221</td>\n",
       "      <td>6.0</td>\n",
       "    </tr>\n",
       "    <tr>\n",
       "      <th>2</th>\n",
       "      <td>ACURA</td>\n",
       "      <td>ILX HYBRID</td>\n",
       "      <td>COMPACT</td>\n",
       "      <td>1.5</td>\n",
       "      <td>4</td>\n",
       "      <td>AV</td>\n",
       "      <td>Z</td>\n",
       "      <td>6.0</td>\n",
       "      <td>5.8</td>\n",
       "      <td>5.9</td>\n",
       "      <td>136</td>\n",
       "      <td>7.0</td>\n",
       "    </tr>\n",
       "    <tr>\n",
       "      <th>3</th>\n",
       "      <td>ACURA</td>\n",
       "      <td>MDX 4WD</td>\n",
       "      <td>SUV - SMALL</td>\n",
       "      <td>3.5</td>\n",
       "      <td>6</td>\n",
       "      <td>AS</td>\n",
       "      <td>Z</td>\n",
       "      <td>12.7</td>\n",
       "      <td>9.1</td>\n",
       "      <td>11.1</td>\n",
       "      <td>255</td>\n",
       "      <td>6.0</td>\n",
       "    </tr>\n",
       "    <tr>\n",
       "      <th>4</th>\n",
       "      <td>ACURA</td>\n",
       "      <td>RDX AWD</td>\n",
       "      <td>SUV - SMALL</td>\n",
       "      <td>3.5</td>\n",
       "      <td>6</td>\n",
       "      <td>AS</td>\n",
       "      <td>Z</td>\n",
       "      <td>12.1</td>\n",
       "      <td>8.7</td>\n",
       "      <td>10.6</td>\n",
       "      <td>244</td>\n",
       "      <td>6.0</td>\n",
       "    </tr>\n",
       "  </tbody>\n",
       "</table>\n",
       "</div>"
      ],
      "text/plain": [
       "    Make       Model Vehicle Class  Engine Size(L)  Cylinders Transmission  \\\n",
       "0  ACURA         ILX       COMPACT             2.0          4           AS   \n",
       "1  ACURA         ILX       COMPACT             2.4          4            M   \n",
       "2  ACURA  ILX HYBRID       COMPACT             1.5          4           AV   \n",
       "3  ACURA     MDX 4WD   SUV - SMALL             3.5          6           AS   \n",
       "4  ACURA     RDX AWD   SUV - SMALL             3.5          6           AS   \n",
       "\n",
       "  Fuel Type  Fuel Consumption City (L/100 km)  \\\n",
       "0         Z                               9.9   \n",
       "1         Z                              11.2   \n",
       "2         Z                               6.0   \n",
       "3         Z                              12.7   \n",
       "4         Z                              12.1   \n",
       "\n",
       "   Fuel Consumption Hwy (L/100 km)  Fuel Consumption Comb (L/100 km)  \\\n",
       "0                              6.7                               8.5   \n",
       "1                              7.7                               9.6   \n",
       "2                              5.8                               5.9   \n",
       "3                              9.1                              11.1   \n",
       "4                              8.7                              10.6   \n",
       "\n",
       "   CO2 Emissions(g/km)  Number of Gears  \n",
       "0                  196              5.0  \n",
       "1                  221              6.0  \n",
       "2                  136              7.0  \n",
       "3                  255              6.0  \n",
       "4                  244              6.0  "
      ]
     },
     "execution_count": 95,
     "metadata": {},
     "output_type": "execute_result"
    }
   ],
   "source": [
    "df.head()"
   ]
  },
  {
   "cell_type": "markdown",
   "id": "5b5c76be",
   "metadata": {},
   "source": [
    "# Regression Models 1: One-hot encoding \n",
    "\n"
   ]
  },
  {
   "cell_type": "markdown",
   "id": "2f129355",
   "metadata": {},
   "source": [
    "### Predictive Model\n",
    "\n",
    "\n",
    "We need all the data to be numerical.\n",
    "We can use the\n",
    "function pertaining to pandas."
   ]
  },
  {
   "cell_type": "markdown",
   "id": "71fc6966",
   "metadata": {},
   "source": [
    "Count the number of times a unique value appear in fuel type"
   ]
  },
  {
   "cell_type": "code",
   "execution_count": 96,
   "id": "f641e9b9",
   "metadata": {},
   "outputs": [
    {
     "name": "stdout",
     "output_type": "stream",
     "text": [
      "Number of 'N' values in the 'Fuel Type' column: 1\n"
     ]
    }
   ],
   "source": [
    "n_values_count = df['Fuel Type'].value_counts()\n",
    "\n",
    "# Display the count of 'N' values\n",
    "print(\"Number of 'N' values in the 'Fuel Type' column:\", n_values_count.get('N', 0))"
   ]
  },
  {
   "cell_type": "markdown",
   "id": "7d2fd05f",
   "metadata": {},
   "source": [
    "Want to make a copy of the categorical values "
   ]
  },
  {
   "cell_type": "code",
   "execution_count": 97,
   "id": "49f0f187",
   "metadata": {},
   "outputs": [],
   "source": [
    "# Assuming 'df' is your original DataFrame\n",
    "# List of categorical column names\n",
    "categorical_columns = ['Make', 'Model', 'Vehicle Class', 'Cylinders', 'Transmission', 'Fuel Type']\n",
    "\n",
    "# Create a new DataFrame containing only the specified categorical columns from the original DataFrame\n",
    "categorical_df = df[categorical_columns].copy()\n",
    "\n",
    "# Now, 'categorical_df' is a new DataFrame containing only the categorical data\n"
   ]
  },
  {
   "cell_type": "code",
   "execution_count": 98,
   "id": "0509e308",
   "metadata": {},
   "outputs": [
    {
     "name": "stdout",
     "output_type": "stream",
     "text": [
      "    Make       Model Vehicle Class  Cylinders Transmission Fuel Type\n",
      "0  ACURA         ILX       COMPACT          4           AS         Z\n",
      "1  ACURA         ILX       COMPACT          4            M         Z\n",
      "2  ACURA  ILX HYBRID       COMPACT          4           AV         Z\n",
      "3  ACURA     MDX 4WD   SUV - SMALL          6           AS         Z\n",
      "4  ACURA     RDX AWD   SUV - SMALL          6           AS         Z\n",
      "5  ACURA         RLX      MID-SIZE          6           AS         Z\n",
      "6  ACURA          TL      MID-SIZE          6           AS         Z\n",
      "7  ACURA      TL AWD      MID-SIZE          6           AS         Z\n",
      "8  ACURA      TL AWD      MID-SIZE          6            M         Z\n",
      "9  ACURA         TSX       COMPACT          4           AS         Z\n"
     ]
    }
   ],
   "source": [
    "print(categorical_df.head(10))\n"
   ]
  },
  {
   "cell_type": "code",
   "execution_count": 99,
   "id": "9391bffb",
   "metadata": {},
   "outputs": [
    {
     "name": "stdout",
     "output_type": "stream",
     "text": [
      "Unique values before encoding: \n",
      "Make : ['ACURA' 'ALFA ROMEO' 'ASTON MARTIN' 'AUDI' 'BENTLEY' 'BMW' 'BUICK'\n",
      " 'CADILLAC' 'CHEVROLET' 'CHRYSLER' 'DODGE' 'FIAT' 'FORD' 'GMC' 'HONDA'\n",
      " 'HYUNDAI' 'INFINITI' 'JAGUAR' 'JEEP' 'KIA' 'LAMBORGHINI' 'LAND ROVER'\n",
      " 'LEXUS' 'LINCOLN' 'MASERATI' 'MAZDA' 'MERCEDES-BENZ' 'MINI' 'MITSUBISHI'\n",
      " 'NISSAN' 'PORSCHE' 'RAM' 'ROLLS-ROYCE' 'SCION' 'SMART' 'SRT' 'SUBARU'\n",
      " 'TOYOTA' 'VOLKSWAGEN' 'VOLVO' 'GENESIS' 'BUGATTI']\n",
      "Model : ['ILX' 'ILX HYBRID' 'MDX 4WD' ... 'Tacoma 4WD D-Cab TRD Off-Road/Pro'\n",
      " 'Atlas Cross Sport 4MOTION' 'XC40 T4 AWD']\n",
      "Vehicle Class : ['COMPACT' 'SUV - SMALL' 'MID-SIZE' 'TWO-SEATER' 'MINICOMPACT'\n",
      " 'SUBCOMPACT' 'FULL-SIZE' 'STATION WAGON - SMALL' 'SUV - STANDARD'\n",
      " 'VAN - CARGO' 'VAN - PASSENGER' 'PICKUP TRUCK - STANDARD' 'MINIVAN'\n",
      " 'SPECIAL PURPOSE VEHICLE' 'STATION WAGON - MID-SIZE'\n",
      " 'PICKUP TRUCK - SMALL']\n",
      "Cylinders : [ 4  6 12  8 10  3  5 16]\n",
      "Transmission : ['AS' 'M' 'AV' 'AM' 'A']\n",
      "Fuel Type : ['Z' 'D' 'X' 'E' 'N']\n"
     ]
    }
   ],
   "source": [
    "# corresponding column prefixes used for one-hot encoding\n",
    "categorical_columns = ['Make', 'Model', 'Vehicle Class', 'Cylinders', 'Transmission', 'Fuel Type']\n",
    "\n",
    "\n",
    "# display unique values of categorical columns before encoding\n",
    "print(\"Unique values before encoding: \")\n",
    "for column in categorical_columns:\n",
    "    print(column, \":\", df[column].unique())"
   ]
  },
  {
   "cell_type": "markdown",
   "id": "e4b745b6",
   "metadata": {},
   "source": [
    "Use one hot encoding "
   ]
  },
  {
   "cell_type": "code",
   "execution_count": 100,
   "id": "d2408514",
   "metadata": {},
   "outputs": [
    {
     "name": "stdout",
     "output_type": "stream",
     "text": [
      "['Model', 'CO2 Emissions(g/km)']\n"
     ]
    }
   ],
   "source": [
    "for column in categorical_columns:\n",
    "    # Perform one-hot encoding, add a prefix, and drop the first column to avoid multicollinearity\n",
    "    dummies = pd.get_dummies(df[column], prefix=column, drop_first=True)\n",
    "    # Drop the original column from df\n",
    "    df = df.drop(column, axis=1)\n",
    "    # Join the dummy columns to df\n",
    "    df = df.join(dummies)\n",
    "\n",
    "# Assuming 'CO2 Emissions(g/km)' is your target variable and exists in your original DataFrame 'df'\n",
    "labels = df['CO2 Emissions(g/km)']\n",
    "\n",
    "# Assuming you want to drop some columns including 'Model' and the target variable 'CO2 Emissions(g/km)' after encoding\n",
    "emissions_to_drop = ['Model', 'CO2 Emissions(g/km)']\n",
    "# If you also meant to drop original categorical columns (already encoded), add them here\n",
    "# But since they were already dropped in the loop above, this might be unnecessary\n",
    "\n",
    "# Update list based on your needs\n",
    "print(emissions_to_drop)"
   ]
  },
  {
   "cell_type": "code",
   "execution_count": 101,
   "id": "b8293731",
   "metadata": {},
   "outputs": [
    {
     "name": "stdout",
     "output_type": "stream",
     "text": [
      "Number of rows before dropping 'Model' and 'CO2 Emissions(g/km)': 6282\n",
      "Number of rows after dropping 'Model' and 'CO2 Emissions(g/km)': 6282\n"
     ]
    },
    {
     "data": {
      "text/html": [
       "<div>\n",
       "<style scoped>\n",
       "    .dataframe tbody tr th:only-of-type {\n",
       "        vertical-align: middle;\n",
       "    }\n",
       "\n",
       "    .dataframe tbody tr th {\n",
       "        vertical-align: top;\n",
       "    }\n",
       "\n",
       "    .dataframe thead th {\n",
       "        text-align: right;\n",
       "    }\n",
       "</style>\n",
       "<table border=\"1\" class=\"dataframe\">\n",
       "  <thead>\n",
       "    <tr style=\"text-align: right;\">\n",
       "      <th></th>\n",
       "      <th>Engine Size(L)</th>\n",
       "      <th>Fuel Consumption City (L/100 km)</th>\n",
       "      <th>Fuel Consumption Hwy (L/100 km)</th>\n",
       "      <th>Fuel Consumption Comb (L/100 km)</th>\n",
       "      <th>Number of Gears</th>\n",
       "      <th>Make_ALFA ROMEO</th>\n",
       "      <th>Make_ASTON MARTIN</th>\n",
       "      <th>Make_AUDI</th>\n",
       "      <th>Make_BENTLEY</th>\n",
       "      <th>Make_BMW</th>\n",
       "      <th>...</th>\n",
       "      <th>Cylinders_12</th>\n",
       "      <th>Cylinders_16</th>\n",
       "      <th>Transmission_AM</th>\n",
       "      <th>Transmission_AS</th>\n",
       "      <th>Transmission_AV</th>\n",
       "      <th>Transmission_M</th>\n",
       "      <th>Fuel Type_E</th>\n",
       "      <th>Fuel Type_N</th>\n",
       "      <th>Fuel Type_X</th>\n",
       "      <th>Fuel Type_Z</th>\n",
       "    </tr>\n",
       "  </thead>\n",
       "  <tbody>\n",
       "    <tr>\n",
       "      <th>0</th>\n",
       "      <td>2.0</td>\n",
       "      <td>9.9</td>\n",
       "      <td>6.7</td>\n",
       "      <td>8.5</td>\n",
       "      <td>5.0</td>\n",
       "      <td>0.0</td>\n",
       "      <td>0.0</td>\n",
       "      <td>0.0</td>\n",
       "      <td>0.0</td>\n",
       "      <td>0.0</td>\n",
       "      <td>...</td>\n",
       "      <td>0.0</td>\n",
       "      <td>0.0</td>\n",
       "      <td>0.0</td>\n",
       "      <td>1.0</td>\n",
       "      <td>0.0</td>\n",
       "      <td>0.0</td>\n",
       "      <td>0.0</td>\n",
       "      <td>0.0</td>\n",
       "      <td>0.0</td>\n",
       "      <td>1.0</td>\n",
       "    </tr>\n",
       "    <tr>\n",
       "      <th>1</th>\n",
       "      <td>2.4</td>\n",
       "      <td>11.2</td>\n",
       "      <td>7.7</td>\n",
       "      <td>9.6</td>\n",
       "      <td>6.0</td>\n",
       "      <td>0.0</td>\n",
       "      <td>0.0</td>\n",
       "      <td>0.0</td>\n",
       "      <td>0.0</td>\n",
       "      <td>0.0</td>\n",
       "      <td>...</td>\n",
       "      <td>0.0</td>\n",
       "      <td>0.0</td>\n",
       "      <td>0.0</td>\n",
       "      <td>0.0</td>\n",
       "      <td>0.0</td>\n",
       "      <td>1.0</td>\n",
       "      <td>0.0</td>\n",
       "      <td>0.0</td>\n",
       "      <td>0.0</td>\n",
       "      <td>1.0</td>\n",
       "    </tr>\n",
       "    <tr>\n",
       "      <th>2</th>\n",
       "      <td>1.5</td>\n",
       "      <td>6.0</td>\n",
       "      <td>5.8</td>\n",
       "      <td>5.9</td>\n",
       "      <td>7.0</td>\n",
       "      <td>0.0</td>\n",
       "      <td>0.0</td>\n",
       "      <td>0.0</td>\n",
       "      <td>0.0</td>\n",
       "      <td>0.0</td>\n",
       "      <td>...</td>\n",
       "      <td>0.0</td>\n",
       "      <td>0.0</td>\n",
       "      <td>0.0</td>\n",
       "      <td>0.0</td>\n",
       "      <td>1.0</td>\n",
       "      <td>0.0</td>\n",
       "      <td>0.0</td>\n",
       "      <td>0.0</td>\n",
       "      <td>0.0</td>\n",
       "      <td>1.0</td>\n",
       "    </tr>\n",
       "    <tr>\n",
       "      <th>3</th>\n",
       "      <td>3.5</td>\n",
       "      <td>12.7</td>\n",
       "      <td>9.1</td>\n",
       "      <td>11.1</td>\n",
       "      <td>6.0</td>\n",
       "      <td>0.0</td>\n",
       "      <td>0.0</td>\n",
       "      <td>0.0</td>\n",
       "      <td>0.0</td>\n",
       "      <td>0.0</td>\n",
       "      <td>...</td>\n",
       "      <td>0.0</td>\n",
       "      <td>0.0</td>\n",
       "      <td>0.0</td>\n",
       "      <td>1.0</td>\n",
       "      <td>0.0</td>\n",
       "      <td>0.0</td>\n",
       "      <td>0.0</td>\n",
       "      <td>0.0</td>\n",
       "      <td>0.0</td>\n",
       "      <td>1.0</td>\n",
       "    </tr>\n",
       "    <tr>\n",
       "      <th>4</th>\n",
       "      <td>3.5</td>\n",
       "      <td>12.1</td>\n",
       "      <td>8.7</td>\n",
       "      <td>10.6</td>\n",
       "      <td>6.0</td>\n",
       "      <td>0.0</td>\n",
       "      <td>0.0</td>\n",
       "      <td>0.0</td>\n",
       "      <td>0.0</td>\n",
       "      <td>0.0</td>\n",
       "      <td>...</td>\n",
       "      <td>0.0</td>\n",
       "      <td>0.0</td>\n",
       "      <td>0.0</td>\n",
       "      <td>1.0</td>\n",
       "      <td>0.0</td>\n",
       "      <td>0.0</td>\n",
       "      <td>0.0</td>\n",
       "      <td>0.0</td>\n",
       "      <td>0.0</td>\n",
       "      <td>1.0</td>\n",
       "    </tr>\n",
       "  </tbody>\n",
       "</table>\n",
       "<p>5 rows × 76 columns</p>\n",
       "</div>"
      ],
      "text/plain": [
       "   Engine Size(L)  Fuel Consumption City (L/100 km)  \\\n",
       "0             2.0                               9.9   \n",
       "1             2.4                              11.2   \n",
       "2             1.5                               6.0   \n",
       "3             3.5                              12.7   \n",
       "4             3.5                              12.1   \n",
       "\n",
       "   Fuel Consumption Hwy (L/100 km)  Fuel Consumption Comb (L/100 km)  \\\n",
       "0                              6.7                               8.5   \n",
       "1                              7.7                               9.6   \n",
       "2                              5.8                               5.9   \n",
       "3                              9.1                              11.1   \n",
       "4                              8.7                              10.6   \n",
       "\n",
       "   Number of Gears  Make_ALFA ROMEO  Make_ASTON MARTIN  Make_AUDI  \\\n",
       "0              5.0              0.0                0.0        0.0   \n",
       "1              6.0              0.0                0.0        0.0   \n",
       "2              7.0              0.0                0.0        0.0   \n",
       "3              6.0              0.0                0.0        0.0   \n",
       "4              6.0              0.0                0.0        0.0   \n",
       "\n",
       "   Make_BENTLEY  Make_BMW  ...  Cylinders_12  Cylinders_16  Transmission_AM  \\\n",
       "0           0.0       0.0  ...           0.0           0.0              0.0   \n",
       "1           0.0       0.0  ...           0.0           0.0              0.0   \n",
       "2           0.0       0.0  ...           0.0           0.0              0.0   \n",
       "3           0.0       0.0  ...           0.0           0.0              0.0   \n",
       "4           0.0       0.0  ...           0.0           0.0              0.0   \n",
       "\n",
       "   Transmission_AS  Transmission_AV  Transmission_M  Fuel Type_E  Fuel Type_N  \\\n",
       "0              1.0              0.0             0.0          0.0          0.0   \n",
       "1              0.0              0.0             1.0          0.0          0.0   \n",
       "2              0.0              1.0             0.0          0.0          0.0   \n",
       "3              1.0              0.0             0.0          0.0          0.0   \n",
       "4              1.0              0.0             0.0          0.0          0.0   \n",
       "\n",
       "   Fuel Type_X  Fuel Type_Z  \n",
       "0          0.0          1.0  \n",
       "1          0.0          1.0  \n",
       "2          0.0          1.0  \n",
       "3          0.0          1.0  \n",
       "4          0.0          1.0  \n",
       "\n",
       "[5 rows x 76 columns]"
      ]
     },
     "execution_count": 101,
     "metadata": {},
     "output_type": "execute_result"
    }
   ],
   "source": [
    "# Load and display the initial DataFrame\n",
    "df = pd.read_csv('CO2 Emissions_Canada_cleaned.csv')\n",
    "df.drop(df.columns[0], axis=1, inplace=True)\n",
    "\n",
    "print(\"Number of rows before dropping 'Model' and 'CO2 Emissions(g/km)':\", df.shape[0])\n",
    "\n",
    "# Save the target variable and then drop the columns 'Model' and 'CO2 Emissions(g/km)'\n",
    "labels = df['CO2 Emissions(g/km)'].copy()\n",
    "df.drop(['Model', 'CO2 Emissions(g/km)'], axis=1, inplace=True, errors='ignore')\n",
    "\n",
    "# The number of rows will not change after dropping columns, as columns are being removed, not rows.\n",
    "# However, let's display the number of rows to confirm.\n",
    "print(\"Number of rows after dropping 'Model' and 'CO2 Emissions(g/km)':\", df.shape[0])\n",
    "\n",
    "# List of remaining categorical column names to encode\n",
    "categorical_columns = ['Make', 'Vehicle Class', 'Cylinders', 'Transmission', 'Fuel Type']\n",
    "\n",
    "# Perform one-hot encoding for the categorical data\n",
    "for column in categorical_columns:\n",
    "    dummies = pd.get_dummies(df[column], prefix=column, drop_first=True)\n",
    "    df.drop(column, axis=1, inplace=True)  # Drop the original column from df\n",
    "    df = df.join(dummies)  # Join the dummy columns to df\n",
    "\n",
    "# Impute missing values in the dataset\n",
    "imputer = SimpleImputer(strategy='median')\n",
    "df_imputed = pd.DataFrame(imputer.fit_transform(df), columns=df.columns)\n",
    "\n",
    "# The rest of the code for splitting the data, training, and evaluating the model can follow here.\n",
    "df_imputed.head()\n"
   ]
  },
  {
   "cell_type": "code",
   "execution_count": 102,
   "id": "65d00fbf",
   "metadata": {},
   "outputs": [
    {
     "name": "stdout",
     "output_type": "stream",
     "text": [
      "Number of rows: 6282\n",
      "Number of columns: 76\n"
     ]
    }
   ],
   "source": [
    "print(\"Number of rows:\", df_imputed.shape[0])\n",
    "print(\"Number of columns:\", df_imputed.shape[1])\n"
   ]
  },
  {
   "cell_type": "markdown",
   "id": "e0dbd634",
   "metadata": {},
   "source": [
    "By printing the number of rows and columns, the number of rows did not change but the number of columns changed from 12 to 76. This states that there is no data lost during the process of dropping columns but there are some columns created by changing categorical data to numerical data. "
   ]
  },
  {
   "cell_type": "code",
   "execution_count": 103,
   "id": "f29047a3",
   "metadata": {},
   "outputs": [
    {
     "name": "stdout",
     "output_type": "stream",
     "text": [
      "Mean Squared Error: 37.367023440923596\n"
     ]
    }
   ],
   "source": [
    "# Split data into training and testing sets\n",
    "X_train, X_test, y_train, y_test = train_test_split(df_imputed, labels, test_size=0.3, random_state=42)\n",
    "\n",
    "# Initialize and train the linear regression model\n",
    "lr_model = LinearRegression()\n",
    "lr_model.fit(X_train, y_train)\n",
    "\n",
    "# Predict and calculate the mean squared error\n",
    "y_pred = lr_model.predict(X_test)\n",
    "mse = mean_squared_error(y_test, y_pred)\n",
    "print(\"Mean Squared Error:\", mse)\n",
    "\n",
    "# Optionally, print the coefficients of the model\n",
    "#print(\"Coefficients:\", lr_model.coef_)\n"
   ]
  },
  {
   "cell_type": "code",
   "execution_count": 104,
   "id": "a2df3de1",
   "metadata": {
    "scrolled": true
   },
   "outputs": [
    {
     "name": "stdout",
     "output_type": "stream",
     "text": [
      "Engine Size(L)                      float64\n",
      "Fuel Consumption City (L/100 km)    float64\n",
      "Fuel Consumption Hwy (L/100 km)     float64\n",
      "Fuel Consumption Comb (L/100 km)    float64\n",
      "Number of Gears                     float64\n",
      "                                     ...   \n",
      "Transmission_M                      float64\n",
      "Fuel Type_E                         float64\n",
      "Fuel Type_N                         float64\n",
      "Fuel Type_X                         float64\n",
      "Fuel Type_Z                         float64\n",
      "Length: 76, dtype: object\n"
     ]
    }
   ],
   "source": [
    "print(df_imputed.dtypes)"
   ]
  },
  {
   "cell_type": "markdown",
   "id": "814cdb56",
   "metadata": {},
   "source": [
    "Check all variables(previously categorical/ numerical) are integer values "
   ]
  },
  {
   "cell_type": "code",
   "execution_count": 116,
   "id": "e84578c9",
   "metadata": {},
   "outputs": [
    {
     "name": "stdout",
     "output_type": "stream",
     "text": [
      "The labels are: 0       196\n",
      "1       221\n",
      "2       136\n",
      "3       255\n",
      "4       244\n",
      "       ... \n",
      "6277    219\n",
      "6278    232\n",
      "6279    240\n",
      "6280    232\n",
      "6281    248\n",
      "Name: CO2 Emissions(g/km), Length: 6282, dtype: int64\n",
      "Train Set : (4397, 76) (4397,)\n",
      "Test Set  : (1885, 76) (1885,)\n",
      "The coefficient of determination (R^2) of the prediction, for continuous variables only linear regressions model: \n",
      "0.9895545580479367\n"
     ]
    }
   ],
   "source": [
    "from sklearn.model_selection import train_test_split\n",
    "from sklearn.linear_model import LinearRegression\n",
    "\n",
    "print(\"The labels are:\" ,  labels)\n",
    "\n",
    "X_train, X_test, y_train, y_test = train_test_split(df_imputed, labels, test_size = 0.3, random_state = 0)\n",
    "\n",
    "# Check the sample sizes\n",
    "print(\"Train Set :\", X_train.shape, y_train.shape)\n",
    "print(\"Test Set  :\", X_test.shape, y_test.shape)\n",
    "\n",
    "lin_reg_enc = LinearRegression().fit(X_train, y_train)\n",
    "print('The coefficient of determination (R^2) of the prediction, for continuous variables only linear regressions model: ')\n",
    "print(lin_reg_enc.score(X_test, y_test))"
   ]
  },
  {
   "cell_type": "markdown",
   "id": "0ca26f83",
   "metadata": {},
   "source": [
    "Since the R^2 value is relatively close to the optimal value of 1, the linear regression line fits the model relatively well. "
   ]
  },
  {
   "cell_type": "code",
   "execution_count": 119,
   "id": "f3d897cd",
   "metadata": {},
   "outputs": [
    {
     "name": "stdout",
     "output_type": "stream",
     "text": [
      "Intercept \t: b =  30.81295704025456\n",
      "Coefficients \t: a =  [ 2.87375565e-01  6.54803358e+00  4.97828327e+00  1.05435220e+01\n",
      "  5.37924734e-01  3.53955794e+00  4.24503993e+00  2.00873527e+00\n",
      "  3.55435444e+00  1.55208298e+00  9.69294503e+00  3.94472867e+00\n",
      "  1.96072856e+00  3.60641796e+00  6.94040057e+00  6.44360833e+00\n",
      "  3.56723644e+00  5.40450798e+00  5.94431877e+00  4.04736265e+00\n",
      "  2.66061826e+00  3.32694220e+00  2.75327539e+00  2.64615672e+00\n",
      "  4.95982234e+00  3.68358791e+00  3.41469532e+00  4.03498955e-01\n",
      "  1.35717789e+00  4.07226332e+00  5.07899799e+00  2.10001704e+00\n",
      "  2.99739818e+00  1.66889881e+00  2.52257939e+00  4.45903525e+00\n",
      "  2.40312311e+00  5.83864248e+00  2.25867653e+00  1.83325846e+00\n",
      " -1.89267735e+00  3.94561415e-01  3.38195779e+00  2.68008364e+00\n",
      "  2.02004244e+00  1.67744625e+00  2.58555343e-01 -7.28083289e-01\n",
      " -9.19064741e-01  3.57956523e-01  4.36555482e+00  1.07908601e+00\n",
      "  2.38782309e+00 -1.91309683e-01 -4.28675599e-01 -4.21499545e-01\n",
      "  1.04942228e+00  1.13387745e+00 -2.05575203e-01 -1.51403470e+01\n",
      " -7.95862475e+00  6.72595454e-01  8.15086080e-01  2.02241379e+00\n",
      "  2.27505683e+00  5.51231215e+00  6.01763356e+00  9.69294503e+00\n",
      "  1.53198713e+00  9.91545607e-01 -8.56205239e-01  7.63092913e-01\n",
      " -1.40428506e+02  6.66133815e-16 -2.91102719e+01 -2.77827276e+01]\n"
     ]
    }
   ],
   "source": [
    "# Coefficients of the Linear Regression line\n",
    "# find a and b \n",
    "print('Intercept \\t: b = ', lin_reg_enc.intercept_)\n",
    "print('Coefficients \\t: a = ', lin_reg_enc.coef_)\n"
   ]
  },
  {
   "cell_type": "code",
   "execution_count": 120,
   "id": "19c5fb42",
   "metadata": {},
   "outputs": [],
   "source": [
    "y_train_pred = lin_reg_enc.predict(X_train)\n",
    "y_test_pred = lin_reg_enc.predict(X_test)"
   ]
  },
  {
   "cell_type": "markdown",
   "id": "1b823d42",
   "metadata": {},
   "source": [
    "##Plot the regression line "
   ]
  },
  {
   "cell_type": "code",
   "execution_count": 121,
   "id": "4b3938e1",
   "metadata": {},
   "outputs": [
    {
     "ename": "ValueError",
     "evalue": "x and y must be the same size",
     "output_type": "error",
     "traceback": [
      "\u001b[0;31m---------------------------------------------------------------------------\u001b[0m",
      "\u001b[0;31mValueError\u001b[0m                                Traceback (most recent call last)",
      "Cell \u001b[0;32mIn[121], line 8\u001b[0m\n\u001b[1;32m      5\u001b[0m \u001b[38;5;66;03m# Plot the Linear Regression line\u001b[39;00m\n\u001b[1;32m      6\u001b[0m \u001b[38;5;66;03m# y = mx+c \u001b[39;00m\n\u001b[1;32m      7\u001b[0m f \u001b[38;5;241m=\u001b[39m plt\u001b[38;5;241m.\u001b[39mfigure(figsize\u001b[38;5;241m=\u001b[39m(\u001b[38;5;241m16\u001b[39m, \u001b[38;5;241m8\u001b[39m))\n\u001b[0;32m----> 8\u001b[0m plt\u001b[38;5;241m.\u001b[39mscatter(X_train, y_train)\n\u001b[1;32m      9\u001b[0m plt\u001b[38;5;241m.\u001b[39mscatter(X_train, y_train_pred, color \u001b[38;5;241m=\u001b[39m \u001b[38;5;124m\"\u001b[39m\u001b[38;5;124mr\u001b[39m\u001b[38;5;124m\"\u001b[39m)\n\u001b[1;32m     10\u001b[0m plt\u001b[38;5;241m.\u001b[39mshow()\n",
      "File \u001b[0;32m~/anaconda3/lib/python3.11/site-packages/matplotlib/pyplot.py:2862\u001b[0m, in \u001b[0;36mscatter\u001b[0;34m(x, y, s, c, marker, cmap, norm, vmin, vmax, alpha, linewidths, edgecolors, plotnonfinite, data, **kwargs)\u001b[0m\n\u001b[1;32m   2857\u001b[0m \u001b[38;5;129m@_copy_docstring_and_deprecators\u001b[39m(Axes\u001b[38;5;241m.\u001b[39mscatter)\n\u001b[1;32m   2858\u001b[0m \u001b[38;5;28;01mdef\u001b[39;00m \u001b[38;5;21mscatter\u001b[39m(\n\u001b[1;32m   2859\u001b[0m         x, y, s\u001b[38;5;241m=\u001b[39m\u001b[38;5;28;01mNone\u001b[39;00m, c\u001b[38;5;241m=\u001b[39m\u001b[38;5;28;01mNone\u001b[39;00m, marker\u001b[38;5;241m=\u001b[39m\u001b[38;5;28;01mNone\u001b[39;00m, cmap\u001b[38;5;241m=\u001b[39m\u001b[38;5;28;01mNone\u001b[39;00m, norm\u001b[38;5;241m=\u001b[39m\u001b[38;5;28;01mNone\u001b[39;00m,\n\u001b[1;32m   2860\u001b[0m         vmin\u001b[38;5;241m=\u001b[39m\u001b[38;5;28;01mNone\u001b[39;00m, vmax\u001b[38;5;241m=\u001b[39m\u001b[38;5;28;01mNone\u001b[39;00m, alpha\u001b[38;5;241m=\u001b[39m\u001b[38;5;28;01mNone\u001b[39;00m, linewidths\u001b[38;5;241m=\u001b[39m\u001b[38;5;28;01mNone\u001b[39;00m, \u001b[38;5;241m*\u001b[39m,\n\u001b[1;32m   2861\u001b[0m         edgecolors\u001b[38;5;241m=\u001b[39m\u001b[38;5;28;01mNone\u001b[39;00m, plotnonfinite\u001b[38;5;241m=\u001b[39m\u001b[38;5;28;01mFalse\u001b[39;00m, data\u001b[38;5;241m=\u001b[39m\u001b[38;5;28;01mNone\u001b[39;00m, \u001b[38;5;241m*\u001b[39m\u001b[38;5;241m*\u001b[39mkwargs):\n\u001b[0;32m-> 2862\u001b[0m     __ret \u001b[38;5;241m=\u001b[39m gca()\u001b[38;5;241m.\u001b[39mscatter(\n\u001b[1;32m   2863\u001b[0m         x, y, s\u001b[38;5;241m=\u001b[39ms, c\u001b[38;5;241m=\u001b[39mc, marker\u001b[38;5;241m=\u001b[39mmarker, cmap\u001b[38;5;241m=\u001b[39mcmap, norm\u001b[38;5;241m=\u001b[39mnorm,\n\u001b[1;32m   2864\u001b[0m         vmin\u001b[38;5;241m=\u001b[39mvmin, vmax\u001b[38;5;241m=\u001b[39mvmax, alpha\u001b[38;5;241m=\u001b[39malpha, linewidths\u001b[38;5;241m=\u001b[39mlinewidths,\n\u001b[1;32m   2865\u001b[0m         edgecolors\u001b[38;5;241m=\u001b[39medgecolors, plotnonfinite\u001b[38;5;241m=\u001b[39mplotnonfinite,\n\u001b[1;32m   2866\u001b[0m         \u001b[38;5;241m*\u001b[39m\u001b[38;5;241m*\u001b[39m({\u001b[38;5;124m\"\u001b[39m\u001b[38;5;124mdata\u001b[39m\u001b[38;5;124m\"\u001b[39m: data} \u001b[38;5;28;01mif\u001b[39;00m data \u001b[38;5;129;01mis\u001b[39;00m \u001b[38;5;129;01mnot\u001b[39;00m \u001b[38;5;28;01mNone\u001b[39;00m \u001b[38;5;28;01melse\u001b[39;00m {}), \u001b[38;5;241m*\u001b[39m\u001b[38;5;241m*\u001b[39mkwargs)\n\u001b[1;32m   2867\u001b[0m     sci(__ret)\n\u001b[1;32m   2868\u001b[0m     \u001b[38;5;28;01mreturn\u001b[39;00m __ret\n",
      "File \u001b[0;32m~/anaconda3/lib/python3.11/site-packages/matplotlib/__init__.py:1442\u001b[0m, in \u001b[0;36m_preprocess_data.<locals>.inner\u001b[0;34m(ax, data, *args, **kwargs)\u001b[0m\n\u001b[1;32m   1439\u001b[0m \u001b[38;5;129m@functools\u001b[39m\u001b[38;5;241m.\u001b[39mwraps(func)\n\u001b[1;32m   1440\u001b[0m \u001b[38;5;28;01mdef\u001b[39;00m \u001b[38;5;21minner\u001b[39m(ax, \u001b[38;5;241m*\u001b[39margs, data\u001b[38;5;241m=\u001b[39m\u001b[38;5;28;01mNone\u001b[39;00m, \u001b[38;5;241m*\u001b[39m\u001b[38;5;241m*\u001b[39mkwargs):\n\u001b[1;32m   1441\u001b[0m     \u001b[38;5;28;01mif\u001b[39;00m data \u001b[38;5;129;01mis\u001b[39;00m \u001b[38;5;28;01mNone\u001b[39;00m:\n\u001b[0;32m-> 1442\u001b[0m         \u001b[38;5;28;01mreturn\u001b[39;00m func(ax, \u001b[38;5;241m*\u001b[39m\u001b[38;5;28mmap\u001b[39m(sanitize_sequence, args), \u001b[38;5;241m*\u001b[39m\u001b[38;5;241m*\u001b[39mkwargs)\n\u001b[1;32m   1444\u001b[0m     bound \u001b[38;5;241m=\u001b[39m new_sig\u001b[38;5;241m.\u001b[39mbind(ax, \u001b[38;5;241m*\u001b[39margs, \u001b[38;5;241m*\u001b[39m\u001b[38;5;241m*\u001b[39mkwargs)\n\u001b[1;32m   1445\u001b[0m     auto_label \u001b[38;5;241m=\u001b[39m (bound\u001b[38;5;241m.\u001b[39marguments\u001b[38;5;241m.\u001b[39mget(label_namer)\n\u001b[1;32m   1446\u001b[0m                   \u001b[38;5;129;01mor\u001b[39;00m bound\u001b[38;5;241m.\u001b[39mkwargs\u001b[38;5;241m.\u001b[39mget(label_namer))\n",
      "File \u001b[0;32m~/anaconda3/lib/python3.11/site-packages/matplotlib/axes/_axes.py:4584\u001b[0m, in \u001b[0;36mAxes.scatter\u001b[0;34m(self, x, y, s, c, marker, cmap, norm, vmin, vmax, alpha, linewidths, edgecolors, plotnonfinite, **kwargs)\u001b[0m\n\u001b[1;32m   4582\u001b[0m y \u001b[38;5;241m=\u001b[39m np\u001b[38;5;241m.\u001b[39mma\u001b[38;5;241m.\u001b[39mravel(y)\n\u001b[1;32m   4583\u001b[0m \u001b[38;5;28;01mif\u001b[39;00m x\u001b[38;5;241m.\u001b[39msize \u001b[38;5;241m!=\u001b[39m y\u001b[38;5;241m.\u001b[39msize:\n\u001b[0;32m-> 4584\u001b[0m     \u001b[38;5;28;01mraise\u001b[39;00m \u001b[38;5;167;01mValueError\u001b[39;00m(\u001b[38;5;124m\"\u001b[39m\u001b[38;5;124mx and y must be the same size\u001b[39m\u001b[38;5;124m\"\u001b[39m)\n\u001b[1;32m   4586\u001b[0m \u001b[38;5;28;01mif\u001b[39;00m s \u001b[38;5;129;01mis\u001b[39;00m \u001b[38;5;28;01mNone\u001b[39;00m:\n\u001b[1;32m   4587\u001b[0m     s \u001b[38;5;241m=\u001b[39m (\u001b[38;5;241m20\u001b[39m \u001b[38;5;28;01mif\u001b[39;00m mpl\u001b[38;5;241m.\u001b[39mrcParams[\u001b[38;5;124m'\u001b[39m\u001b[38;5;124m_internal.classic_mode\u001b[39m\u001b[38;5;124m'\u001b[39m] \u001b[38;5;28;01melse\u001b[39;00m\n\u001b[1;32m   4588\u001b[0m          mpl\u001b[38;5;241m.\u001b[39mrcParams[\u001b[38;5;124m'\u001b[39m\u001b[38;5;124mlines.markersize\u001b[39m\u001b[38;5;124m'\u001b[39m] \u001b[38;5;241m*\u001b[39m\u001b[38;5;241m*\u001b[39m \u001b[38;5;241m2.0\u001b[39m)\n",
      "\u001b[0;31mValueError\u001b[0m: x and y must be the same size"
     ]
    },
    {
     "data": {
      "image/png": "[encoded data removed]",
      "text/plain": [
       "<Figure size 1600x800 with 1 Axes>"
      ]
     },
     "metadata": {},
     "output_type": "display_data"
    }
   ],
   "source": [
    "# Predict Total values corresponding to HP Train\n",
    "#take the x values to predict the y values \n",
    "y_train_pred =lin_reg_enc.predict(X_train)\n",
    "\n",
    "# Plot the Linear Regression line\n",
    "# y = mx+c \n",
    "f = plt.figure(figsize=(16, 8))\n",
    "plt.scatter(X_train, y_train)\n",
    "plt.scatter(X_train, y_train_pred, color = \"r\")\n",
    "plt.show()\n",
    "\n",
    "# gap between blue point and red point is the errors "
   ]
  },
  {
   "cell_type": "code",
   "execution_count": null,
   "id": "156181f7",
   "metadata": {},
   "outputs": [],
   "source": []
  }
 ],
 "metadata": {
  "kernelspec": {
   "display_name": "Python 3 (ipykernel)",
   "language": "python",
   "name": "python3"
  },
  "language_info": {
   "codemirror_mode": {
    "name": "ipython",
    "version": 3
   },
   "file_extension": ".py",
   "mimetype": "text/x-python",
   "name": "python",
   "nbconvert_exporter": "python",
   "pygments_lexer": "ipython3",
   "version": "3.11.4"
  }
 },
 "nbformat": 4,
 "nbformat_minor": 5
}
