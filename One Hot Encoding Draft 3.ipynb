{
 "cells": [
  {
   "cell_type": "markdown",
   "id": "0e43355a",
   "metadata": {},
   "source": [
    "# One Hot Encoding\n",
    "\n",
    "A machine learning technique to convert categorical data into columns of numerical data, allows us to better leverage information in categorical data to make predictions and to understand the patterns. \n",
    "\n",
    "How it works: Each binary variable represents one category from the original variable. It is also when the integer encoded variables are removed and a new binary variable is added for each unique integer value. \n",
    "\n",
    "Eg. Colour columns might give \"red\" [1,0,0] \n",
    "                              \"green\" [0,1,0]\n",
    "                              \"blue\" [0,0,1] \n",
    "\n",
    "Subsequently, with the new columns created from one hot encoding, we plan to carry out linear regression with all the data available. \n",
    "\n",
    "Advantages of using one hot encoding is when there is no ordeal relationship such as Fuel Type Z,D,X,E,N, can still harness a relationship. \n",
    "\n"
   ]
  },
  {
   "cell_type": "markdown",
   "id": "2580f4b7",
   "metadata": {},
   "source": [
    "Our categorical variables : \n",
    "    Vehicle Class,Engine Size, Cylinders, Transmission,Fuel Type that we plan to do encoding on since only these variables have unique and similar values \n",
    "    "
   ]
  },
  {
   "cell_type": "markdown",
   "id": "91aa3344",
   "metadata": {},
   "source": [
    "### Import Essential Libraries\n",
    "\n",
    "> NumPy : Library for Numeric Computations in Python  \n",
    "> Pandas : Library for Data Acquisition and Preparation  \n",
    "> Matplotlib : Low-level library for Data Visualization  \n",
    "> Seaborn : Higher-level library for Data Visualization"
   ]
  },
  {
   "cell_type": "code",
   "execution_count": 1,
   "id": "bbae18b7",
   "metadata": {},
   "outputs": [],
   "source": [
    "import numpy as np\n",
    "import pandas as pd\n",
    "import seaborn as sb\n",
    "import matplotlib.pyplot as plt\n",
    "from sklearn.model_selection import train_test_split\n",
    "from sklearn.linear_model import LinearRegression\n",
    "from sklearn.metrics import mean_squared_error\n",
    "from sklearn.impute import SimpleImputer\n"
   ]
  },
  {
   "cell_type": "markdown",
   "id": "947a89d8",
   "metadata": {},
   "source": [
    "## Import the cleaned dataset with no outliers & checking of data"
   ]
  },
  {
   "cell_type": "code",
   "execution_count": 2,
   "id": "5fde57b8",
   "metadata": {},
   "outputs": [
    {
     "name": "stdout",
     "output_type": "stream",
     "text": [
      "Number of rows: 5965\n",
      "Number of columns: 13\n"
     ]
    }
   ],
   "source": [
    "df = pd.read_csv('CO2 Emissions_Canada_cleaned_removed_outlier.csv')\n",
    "df.drop(df.columns[0], axis=1, inplace=True)\n",
    "\n",
    "print(\"Number of rows:\", df.shape[0])\n",
    "print(\"Number of columns:\", df.shape[1])\n"
   ]
  },
  {
   "cell_type": "code",
   "execution_count": 3,
   "id": "c6cd2cea",
   "metadata": {},
   "outputs": [
    {
     "data": {
      "text/html": [
       "<div>\n",
       "<style scoped>\n",
       "    .dataframe tbody tr th:only-of-type {\n",
       "        vertical-align: middle;\n",
       "    }\n",
       "\n",
       "    .dataframe tbody tr th {\n",
       "        vertical-align: top;\n",
       "    }\n",
       "\n",
       "    .dataframe thead th {\n",
       "        text-align: right;\n",
       "    }\n",
       "</style>\n",
       "<table border=\"1\" class=\"dataframe\">\n",
       "  <thead>\n",
       "    <tr style=\"text-align: right;\">\n",
       "      <th></th>\n",
       "      <th>Make</th>\n",
       "      <th>Model</th>\n",
       "      <th>Vehicle Class</th>\n",
       "      <th>Engine Size(L)</th>\n",
       "      <th>Cylinders</th>\n",
       "      <th>Transmission</th>\n",
       "      <th>Fuel Type</th>\n",
       "      <th>Fuel Consumption City (L/100 km)</th>\n",
       "      <th>Fuel Consumption Hwy (L/100 km)</th>\n",
       "      <th>Fuel Consumption Comb (L/100 km)</th>\n",
       "      <th>Fuel Consumption Comb (mpg)</th>\n",
       "      <th>CO2 Emissions(g/km)</th>\n",
       "      <th>Number of Gears</th>\n",
       "    </tr>\n",
       "  </thead>\n",
       "  <tbody>\n",
       "    <tr>\n",
       "      <th>0</th>\n",
       "      <td>ACURA</td>\n",
       "      <td>ILX</td>\n",
       "      <td>COMPACT</td>\n",
       "      <td>2.0</td>\n",
       "      <td>4</td>\n",
       "      <td>AS</td>\n",
       "      <td>Z</td>\n",
       "      <td>9.9</td>\n",
       "      <td>6.7</td>\n",
       "      <td>8.5</td>\n",
       "      <td>33</td>\n",
       "      <td>196</td>\n",
       "      <td>5</td>\n",
       "    </tr>\n",
       "    <tr>\n",
       "      <th>1</th>\n",
       "      <td>ACURA</td>\n",
       "      <td>ILX</td>\n",
       "      <td>COMPACT</td>\n",
       "      <td>2.4</td>\n",
       "      <td>4</td>\n",
       "      <td>M</td>\n",
       "      <td>Z</td>\n",
       "      <td>11.2</td>\n",
       "      <td>7.7</td>\n",
       "      <td>9.6</td>\n",
       "      <td>29</td>\n",
       "      <td>221</td>\n",
       "      <td>6</td>\n",
       "    </tr>\n",
       "    <tr>\n",
       "      <th>2</th>\n",
       "      <td>ACURA</td>\n",
       "      <td>ILX HYBRID</td>\n",
       "      <td>COMPACT</td>\n",
       "      <td>1.5</td>\n",
       "      <td>4</td>\n",
       "      <td>AV</td>\n",
       "      <td>Z</td>\n",
       "      <td>6.0</td>\n",
       "      <td>5.8</td>\n",
       "      <td>5.9</td>\n",
       "      <td>48</td>\n",
       "      <td>136</td>\n",
       "      <td>7</td>\n",
       "    </tr>\n",
       "    <tr>\n",
       "      <th>3</th>\n",
       "      <td>ACURA</td>\n",
       "      <td>MDX 4WD</td>\n",
       "      <td>SUV - SMALL</td>\n",
       "      <td>3.5</td>\n",
       "      <td>6</td>\n",
       "      <td>AS</td>\n",
       "      <td>Z</td>\n",
       "      <td>12.7</td>\n",
       "      <td>9.1</td>\n",
       "      <td>11.1</td>\n",
       "      <td>25</td>\n",
       "      <td>255</td>\n",
       "      <td>6</td>\n",
       "    </tr>\n",
       "    <tr>\n",
       "      <th>4</th>\n",
       "      <td>ACURA</td>\n",
       "      <td>RDX AWD</td>\n",
       "      <td>SUV - SMALL</td>\n",
       "      <td>3.5</td>\n",
       "      <td>6</td>\n",
       "      <td>AS</td>\n",
       "      <td>Z</td>\n",
       "      <td>12.1</td>\n",
       "      <td>8.7</td>\n",
       "      <td>10.6</td>\n",
       "      <td>27</td>\n",
       "      <td>244</td>\n",
       "      <td>6</td>\n",
       "    </tr>\n",
       "  </tbody>\n",
       "</table>\n",
       "</div>"
      ],
      "text/plain": [
       "    Make       Model Vehicle Class  Engine Size(L)  Cylinders Transmission  \\\n",
       "0  ACURA         ILX       COMPACT             2.0          4           AS   \n",
       "1  ACURA         ILX       COMPACT             2.4          4            M   \n",
       "2  ACURA  ILX HYBRID       COMPACT             1.5          4           AV   \n",
       "3  ACURA     MDX 4WD   SUV - SMALL             3.5          6           AS   \n",
       "4  ACURA     RDX AWD   SUV - SMALL             3.5          6           AS   \n",
       "\n",
       "  Fuel Type  Fuel Consumption City (L/100 km)  \\\n",
       "0         Z                               9.9   \n",
       "1         Z                              11.2   \n",
       "2         Z                               6.0   \n",
       "3         Z                              12.7   \n",
       "4         Z                              12.1   \n",
       "\n",
       "   Fuel Consumption Hwy (L/100 km)  Fuel Consumption Comb (L/100 km)  \\\n",
       "0                              6.7                               8.5   \n",
       "1                              7.7                               9.6   \n",
       "2                              5.8                               5.9   \n",
       "3                              9.1                              11.1   \n",
       "4                              8.7                              10.6   \n",
       "\n",
       "   Fuel Consumption Comb (mpg)  CO2 Emissions(g/km)  Number of Gears  \n",
       "0                           33                  196                5  \n",
       "1                           29                  221                6  \n",
       "2                           48                  136                7  \n",
       "3                           25                  255                6  \n",
       "4                           27                  244                6  "
      ]
     },
     "execution_count": 3,
     "metadata": {},
     "output_type": "execute_result"
    }
   ],
   "source": [
    "df.head()"
   ]
  },
  {
   "cell_type": "code",
   "execution_count": 4,
   "id": "970dbdc0",
   "metadata": {},
   "outputs": [
    {
     "name": "stdout",
     "output_type": "stream",
     "text": [
      "Make\n",
      "Model\n",
      "Vehicle Class\n",
      "Engine Size(L)\n",
      "Cylinders\n",
      "Transmission\n",
      "Fuel Type\n",
      "Fuel Consumption City (L/100 km)\n",
      "Fuel Consumption Hwy (L/100 km)\n",
      "Fuel Consumption Comb (L/100 km)\n",
      "Fuel Consumption Comb (mpg)\n",
      "CO2 Emissions(g/km)\n",
      "Number of Gears\n"
     ]
    }
   ],
   "source": [
    "# Assuming df_imputed is your DataFrame\n",
    "column_names = df.columns\n",
    "\n",
    "# Print each column name\n",
    "for column in column_names:\n",
    "    print(column)\n"
   ]
  },
  {
   "cell_type": "markdown",
   "id": "5b5c76be",
   "metadata": {},
   "source": [
    "## One-hot encoding \n",
    "Viewing of all the categorical data, except 'Make' and 'Model' as explained in our EDA\n",
    "\n",
    "Want to make all the categorical data become numerical.\n",
    "Relevant Categorical Data : \n",
    "Vehicle Class, Transmission, Fuel Type \n"
   ]
  },
  {
   "cell_type": "markdown",
   "id": "2f129355",
   "metadata": {},
   "source": [
    "### Predictive Model\n",
    "\n",
    "\n",
    "We need all the data to be numerical.\n",
    "We can use the\n",
    "function pertaining to pandas."
   ]
  },
  {
   "cell_type": "markdown",
   "id": "71fc6966",
   "metadata": {},
   "source": [
    " might not want to include : Count the number of times a unique value appear in fuel type for a sample"
   ]
  },
  {
   "cell_type": "code",
   "execution_count": 4,
   "id": "f641e9b9",
   "metadata": {},
   "outputs": [
    {
     "name": "stdout",
     "output_type": "stream",
     "text": [
      "Number of 'N' values in the 'Fuel Type' column: 1\n"
     ]
    }
   ],
   "source": [
    "n_values_count = df['Fuel Type'].value_counts()\n",
    "\n",
    "# Display the count of 'N' values\n",
    "print(\"Number of 'N' values in the 'Fuel Type' column:\", n_values_count.get('N', 0))"
   ]
  },
  {
   "cell_type": "markdown",
   "id": "7d2fd05f",
   "metadata": {},
   "source": [
    "Want to make a copy of the categorical values "
   ]
  },
  {
   "cell_type": "code",
   "execution_count": 5,
   "id": "49f0f187",
   "metadata": {},
   "outputs": [],
   "source": [
    "# Assuming 'df' is your original DataFrame\n",
    "# List of categorical column names\n",
    "categorical_columns = ['Vehicle Class', 'Transmission', 'Fuel Type']\n",
    "\n",
    "# Create a new DataFrame containing only the specified categorical columns from the original DataFrame\n",
    "categorical_df = df[categorical_columns].copy()\n",
    "\n",
    "# Now, 'categorical_df' is a new DataFrame containing only the categorical data\n"
   ]
  },
  {
   "cell_type": "code",
   "execution_count": 6,
   "id": "0509e308",
   "metadata": {},
   "outputs": [
    {
     "name": "stdout",
     "output_type": "stream",
     "text": [
      "  Vehicle Class Transmission Fuel Type\n",
      "0       COMPACT           AS         Z\n",
      "1       COMPACT            M         Z\n",
      "2       COMPACT           AV         Z\n",
      "3   SUV - SMALL           AS         Z\n",
      "4   SUV - SMALL           AS         Z\n",
      "5      MID-SIZE           AS         Z\n",
      "6      MID-SIZE           AS         Z\n",
      "7      MID-SIZE           AS         Z\n",
      "8      MID-SIZE            M         Z\n",
      "9       COMPACT           AS         Z\n"
     ]
    }
   ],
   "source": [
    "print(categorical_df.head(10))\n"
   ]
  },
  {
   "cell_type": "markdown",
   "id": "f874e59d",
   "metadata": {},
   "source": [
    "## One-hot encoding \n",
    "Viewing of all the unique values in each section of categorical data. "
   ]
  },
  {
   "cell_type": "code",
   "execution_count": 7,
   "id": "9391bffb",
   "metadata": {},
   "outputs": [
    {
     "name": "stdout",
     "output_type": "stream",
     "text": [
      "Unique values before encoding: \n",
      "Vehicle Class : ['COMPACT' 'SUV - SMALL' 'MID-SIZE' 'TWO-SEATER' 'MINICOMPACT'\n",
      " 'SUBCOMPACT' 'FULL-SIZE' 'STATION WAGON - SMALL' 'SUV - STANDARD'\n",
      " 'VAN - CARGO' 'VAN - PASSENGER' 'PICKUP TRUCK - STANDARD' 'MINIVAN'\n",
      " 'SPECIAL PURPOSE VEHICLE' 'STATION WAGON - MID-SIZE'\n",
      " 'PICKUP TRUCK - SMALL']\n",
      "Number of unique values: 16\n",
      "Transmission : ['AS' 'M' 'AV' 'AM' 'A']\n",
      "Number of unique values: 5\n",
      "Fuel Type : ['Z' 'D' 'X' 'E' 'N']\n",
      "Number of unique values: 5\n"
     ]
    }
   ],
   "source": [
    "# display unique values of categorical columns before encoding\n",
    "print(\"Unique values before encoding: \")\n",
    "for column in categorical_columns:\n",
    "    print(column, \":\", df[column].unique())\n",
    "    # Add this line to display the number of unique values\n",
    "    print(\"Number of unique values:\", df[column].nunique())\n"
   ]
  },
  {
   "cell_type": "markdown",
   "id": "ee3c3771",
   "metadata": {},
   "source": [
    "Number of unique values in all the columns = 26"
   ]
  },
  {
   "cell_type": "markdown",
   "id": "e4b745b6",
   "metadata": {},
   "source": [
    "### Applying one hot encoding to variables such as Vehicle Class, Transmission, Fuel Type. \n"
   ]
  },
  {
   "cell_type": "markdown",
   "id": "b80bb9a5",
   "metadata": {},
   "source": [
    "### To add all the neccessary data variables of categorical after encoding and numerical data.\n",
    "\n",
    "We focus on the specifications of the car, by including\n",
    "\n",
    "Numerical : Engine size(L), Fuel Consumption Comb(L/100km), Number of Gears\n",
    "\n",
    "\n",
    "Categorical:\n",
    "            Vehicle Class (FULL-SIZE,MID-SIZE,MINICOMPACT, MINIVAN, TRUCK-SMALL..)\n",
    "            Cylinders (10/12)\n",
    "            Transmission(AM, AS, AV, M)\n",
    "            Fuel Type(E,N,X,Z)"
   ]
  },
  {
   "cell_type": "code",
   "execution_count": 19,
   "id": "23befa2f",
   "metadata": {},
   "outputs": [
    {
     "name": "stdout",
     "output_type": "stream",
     "text": [
      "Number of rows before dropping the necessary: 5965\n",
      "Number of rows after dropping necessary': 5965\n"
     ]
    },
    {
     "data": {
      "text/html": [
       "<div>\n",
       "<style scoped>\n",
       "    .dataframe tbody tr th:only-of-type {\n",
       "        vertical-align: middle;\n",
       "    }\n",
       "\n",
       "    .dataframe tbody tr th {\n",
       "        vertical-align: top;\n",
       "    }\n",
       "\n",
       "    .dataframe thead th {\n",
       "        text-align: right;\n",
       "    }\n",
       "</style>\n",
       "<table border=\"1\" class=\"dataframe\">\n",
       "  <thead>\n",
       "    <tr style=\"text-align: right;\">\n",
       "      <th></th>\n",
       "      <th>Engine Size(L)</th>\n",
       "      <th>Cylinders</th>\n",
       "      <th>Fuel Consumption Comb (mpg)</th>\n",
       "      <th>CO2 Emissions(g/km)</th>\n",
       "      <th>Number of Gears</th>\n",
       "      <th>Vehicle Class_FULL-SIZE</th>\n",
       "      <th>Vehicle Class_MID-SIZE</th>\n",
       "      <th>Vehicle Class_MINICOMPACT</th>\n",
       "      <th>Vehicle Class_MINIVAN</th>\n",
       "      <th>Vehicle Class_PICKUP TRUCK - SMALL</th>\n",
       "      <th>...</th>\n",
       "      <th>Vehicle Class_VAN - CARGO</th>\n",
       "      <th>Vehicle Class_VAN - PASSENGER</th>\n",
       "      <th>Transmission_AM</th>\n",
       "      <th>Transmission_AS</th>\n",
       "      <th>Transmission_AV</th>\n",
       "      <th>Transmission_M</th>\n",
       "      <th>Fuel Type_E</th>\n",
       "      <th>Fuel Type_N</th>\n",
       "      <th>Fuel Type_X</th>\n",
       "      <th>Fuel Type_Z</th>\n",
       "    </tr>\n",
       "  </thead>\n",
       "  <tbody>\n",
       "    <tr>\n",
       "      <th>0</th>\n",
       "      <td>2.0</td>\n",
       "      <td>4.0</td>\n",
       "      <td>33.0</td>\n",
       "      <td>196.0</td>\n",
       "      <td>5.0</td>\n",
       "      <td>0.0</td>\n",
       "      <td>0.0</td>\n",
       "      <td>0.0</td>\n",
       "      <td>0.0</td>\n",
       "      <td>0.0</td>\n",
       "      <td>...</td>\n",
       "      <td>0.0</td>\n",
       "      <td>0.0</td>\n",
       "      <td>0.0</td>\n",
       "      <td>1.0</td>\n",
       "      <td>0.0</td>\n",
       "      <td>0.0</td>\n",
       "      <td>0.0</td>\n",
       "      <td>0.0</td>\n",
       "      <td>0.0</td>\n",
       "      <td>1.0</td>\n",
       "    </tr>\n",
       "    <tr>\n",
       "      <th>1</th>\n",
       "      <td>2.4</td>\n",
       "      <td>4.0</td>\n",
       "      <td>29.0</td>\n",
       "      <td>221.0</td>\n",
       "      <td>6.0</td>\n",
       "      <td>0.0</td>\n",
       "      <td>0.0</td>\n",
       "      <td>0.0</td>\n",
       "      <td>0.0</td>\n",
       "      <td>0.0</td>\n",
       "      <td>...</td>\n",
       "      <td>0.0</td>\n",
       "      <td>0.0</td>\n",
       "      <td>0.0</td>\n",
       "      <td>0.0</td>\n",
       "      <td>0.0</td>\n",
       "      <td>1.0</td>\n",
       "      <td>0.0</td>\n",
       "      <td>0.0</td>\n",
       "      <td>0.0</td>\n",
       "      <td>1.0</td>\n",
       "    </tr>\n",
       "    <tr>\n",
       "      <th>2</th>\n",
       "      <td>1.5</td>\n",
       "      <td>4.0</td>\n",
       "      <td>48.0</td>\n",
       "      <td>136.0</td>\n",
       "      <td>7.0</td>\n",
       "      <td>0.0</td>\n",
       "      <td>0.0</td>\n",
       "      <td>0.0</td>\n",
       "      <td>0.0</td>\n",
       "      <td>0.0</td>\n",
       "      <td>...</td>\n",
       "      <td>0.0</td>\n",
       "      <td>0.0</td>\n",
       "      <td>0.0</td>\n",
       "      <td>0.0</td>\n",
       "      <td>1.0</td>\n",
       "      <td>0.0</td>\n",
       "      <td>0.0</td>\n",
       "      <td>0.0</td>\n",
       "      <td>0.0</td>\n",
       "      <td>1.0</td>\n",
       "    </tr>\n",
       "    <tr>\n",
       "      <th>3</th>\n",
       "      <td>3.5</td>\n",
       "      <td>6.0</td>\n",
       "      <td>25.0</td>\n",
       "      <td>255.0</td>\n",
       "      <td>6.0</td>\n",
       "      <td>0.0</td>\n",
       "      <td>0.0</td>\n",
       "      <td>0.0</td>\n",
       "      <td>0.0</td>\n",
       "      <td>0.0</td>\n",
       "      <td>...</td>\n",
       "      <td>0.0</td>\n",
       "      <td>0.0</td>\n",
       "      <td>0.0</td>\n",
       "      <td>1.0</td>\n",
       "      <td>0.0</td>\n",
       "      <td>0.0</td>\n",
       "      <td>0.0</td>\n",
       "      <td>0.0</td>\n",
       "      <td>0.0</td>\n",
       "      <td>1.0</td>\n",
       "    </tr>\n",
       "    <tr>\n",
       "      <th>4</th>\n",
       "      <td>3.5</td>\n",
       "      <td>6.0</td>\n",
       "      <td>27.0</td>\n",
       "      <td>244.0</td>\n",
       "      <td>6.0</td>\n",
       "      <td>0.0</td>\n",
       "      <td>0.0</td>\n",
       "      <td>0.0</td>\n",
       "      <td>0.0</td>\n",
       "      <td>0.0</td>\n",
       "      <td>...</td>\n",
       "      <td>0.0</td>\n",
       "      <td>0.0</td>\n",
       "      <td>0.0</td>\n",
       "      <td>1.0</td>\n",
       "      <td>0.0</td>\n",
       "      <td>0.0</td>\n",
       "      <td>0.0</td>\n",
       "      <td>0.0</td>\n",
       "      <td>0.0</td>\n",
       "      <td>1.0</td>\n",
       "    </tr>\n",
       "  </tbody>\n",
       "</table>\n",
       "<p>5 rows × 28 columns</p>\n",
       "</div>"
      ],
      "text/plain": [
       "   Engine Size(L)  Cylinders  Fuel Consumption Comb (mpg)  \\\n",
       "0             2.0        4.0                         33.0   \n",
       "1             2.4        4.0                         29.0   \n",
       "2             1.5        4.0                         48.0   \n",
       "3             3.5        6.0                         25.0   \n",
       "4             3.5        6.0                         27.0   \n",
       "\n",
       "   CO2 Emissions(g/km)  Number of Gears  Vehicle Class_FULL-SIZE  \\\n",
       "0                196.0              5.0                      0.0   \n",
       "1                221.0              6.0                      0.0   \n",
       "2                136.0              7.0                      0.0   \n",
       "3                255.0              6.0                      0.0   \n",
       "4                244.0              6.0                      0.0   \n",
       "\n",
       "   Vehicle Class_MID-SIZE  Vehicle Class_MINICOMPACT  Vehicle Class_MINIVAN  \\\n",
       "0                     0.0                        0.0                    0.0   \n",
       "1                     0.0                        0.0                    0.0   \n",
       "2                     0.0                        0.0                    0.0   \n",
       "3                     0.0                        0.0                    0.0   \n",
       "4                     0.0                        0.0                    0.0   \n",
       "\n",
       "   Vehicle Class_PICKUP TRUCK - SMALL  ...  Vehicle Class_VAN - CARGO  \\\n",
       "0                                 0.0  ...                        0.0   \n",
       "1                                 0.0  ...                        0.0   \n",
       "2                                 0.0  ...                        0.0   \n",
       "3                                 0.0  ...                        0.0   \n",
       "4                                 0.0  ...                        0.0   \n",
       "\n",
       "   Vehicle Class_VAN - PASSENGER  Transmission_AM  Transmission_AS  \\\n",
       "0                            0.0              0.0              1.0   \n",
       "1                            0.0              0.0              0.0   \n",
       "2                            0.0              0.0              0.0   \n",
       "3                            0.0              0.0              1.0   \n",
       "4                            0.0              0.0              1.0   \n",
       "\n",
       "   Transmission_AV  Transmission_M  Fuel Type_E  Fuel Type_N  Fuel Type_X  \\\n",
       "0              0.0             0.0          0.0          0.0          0.0   \n",
       "1              0.0             1.0          0.0          0.0          0.0   \n",
       "2              1.0             0.0          0.0          0.0          0.0   \n",
       "3              0.0             0.0          0.0          0.0          0.0   \n",
       "4              0.0             0.0          0.0          0.0          0.0   \n",
       "\n",
       "   Fuel Type_Z  \n",
       "0          1.0  \n",
       "1          1.0  \n",
       "2          1.0  \n",
       "3          1.0  \n",
       "4          1.0  \n",
       "\n",
       "[5 rows x 28 columns]"
      ]
     },
     "execution_count": 19,
     "metadata": {},
     "output_type": "execute_result"
    }
   ],
   "source": [
    "import pandas as pd\n",
    "from sklearn.impute import SimpleImputer\n",
    "\n",
    "# Load and display the initial DataFrame\n",
    "df = pd.read_csv('CO2 Emissions_Canada_cleaned_removed_outlier.csv')\n",
    "df.drop(df.columns[0], axis=1, inplace=True)\n",
    "\n",
    "print(\"Number of rows before dropping the necessary:\", df.shape[0])\n",
    "\n",
    "# Save the target variable and then drop the columns 'Model', 'CO2 Emissions(g/km)', 'Make', 'Fuel Consumption City(L/100km)', 'Fuel Consumption Hwy(L/100km)'\n",
    "df.drop(['Model', 'Fuel Consumption Comb (L/100 km)', 'Make', 'Fuel Consumption City (L/100 km)', 'Fuel Consumption Hwy (L/100 km)'], axis=1, inplace=True, errors='ignore')\n",
    "\n",
    "print(\"Number of rows after dropping necessary':\", df.shape[0])\n",
    "\n",
    "# List of remaining categorical column names to encode\n",
    "categorical_columns = ['Vehicle Class', 'Transmission', 'Fuel Type']\n",
    "\n",
    "# Perform one-hot encoding for the categorical data\n",
    "for column in categorical_columns:\n",
    "    dummies = pd.get_dummies(df[column], prefix=column, drop_first=True)\n",
    "    df.drop(column, axis=1, inplace=True)  # Drop the original column from df\n",
    "    df = df.join(dummies)  # Join the dummy columns to df\n",
    "\n",
    "# Impute missing values in the dataset\n",
    "imputer = SimpleImputer(strategy='median')\n",
    "df_imputed = pd.DataFrame(imputer.fit_transform(df), columns=df.columns)\n",
    "\n",
    "\n",
    "\n",
    "# At this point, the columns 'Fuel Consumption City(L/100km)' and 'Fuel Consumption Hwy(L/100km)' have already been removed.\n",
    "# Thus, the last drop statement is not needed. We can directly display the head of the imputed DataFrame.\n",
    "df_imputed.head()\n"
   ]
  },
  {
   "cell_type": "code",
   "execution_count": 20,
   "id": "65d00fbf",
   "metadata": {},
   "outputs": [
    {
     "name": "stdout",
     "output_type": "stream",
     "text": [
      "Number of rows: 5965\n",
      "Number of columns: 28\n"
     ]
    }
   ],
   "source": [
    "print(\"Number of rows:\", df_imputed.shape[0])\n",
    "print(\"Number of columns:\", df_imputed.shape[1])\n"
   ]
  },
  {
   "cell_type": "code",
   "execution_count": 21,
   "id": "f3ff9af1",
   "metadata": {},
   "outputs": [
    {
     "name": "stdout",
     "output_type": "stream",
     "text": [
      "Engine Size(L)\n",
      "Cylinders\n",
      "Fuel Consumption Comb (mpg)\n",
      "CO2 Emissions(g/km)\n",
      "Number of Gears\n",
      "Vehicle Class_FULL-SIZE\n",
      "Vehicle Class_MID-SIZE\n",
      "Vehicle Class_MINICOMPACT\n",
      "Vehicle Class_MINIVAN\n",
      "Vehicle Class_PICKUP TRUCK - SMALL\n",
      "Vehicle Class_PICKUP TRUCK - STANDARD\n",
      "Vehicle Class_SPECIAL PURPOSE VEHICLE\n",
      "Vehicle Class_STATION WAGON - MID-SIZE\n",
      "Vehicle Class_STATION WAGON - SMALL\n",
      "Vehicle Class_SUBCOMPACT\n",
      "Vehicle Class_SUV - SMALL\n",
      "Vehicle Class_SUV - STANDARD\n",
      "Vehicle Class_TWO-SEATER\n",
      "Vehicle Class_VAN - CARGO\n",
      "Vehicle Class_VAN - PASSENGER\n",
      "Transmission_AM\n",
      "Transmission_AS\n",
      "Transmission_AV\n",
      "Transmission_M\n",
      "Fuel Type_E\n",
      "Fuel Type_N\n",
      "Fuel Type_X\n",
      "Fuel Type_Z\n"
     ]
    }
   ],
   "source": [
    "# Assuming df_imputed is your DataFrame\n",
    "column_names = df_imputed.columns\n",
    "\n",
    "# Print each column name\n",
    "for column in column_names:\n",
    "    print(column)\n"
   ]
  },
  {
   "cell_type": "markdown",
   "id": "e0dbd634",
   "metadata": {},
   "source": [
    "By printing the number of rows and columns, the number of rows did not change which means that no data is lost during the process of dropping columns.  Additionally, the number of useful data columns changed from 13 to 28, meaning that there are some columns created by changing unique categorical data to columns."
   ]
  },
  {
   "cell_type": "markdown",
   "id": "fbbf3e79",
   "metadata": {},
   "source": [
    "### Creation of a new CSV File with after one hot encoding"
   ]
  },
  {
   "cell_type": "code",
   "execution_count": 12,
   "id": "e85094d8",
   "metadata": {},
   "outputs": [
    {
     "name": "stdout",
     "output_type": "stream",
     "text": [
      "Number of rows: 5965\n",
      "Number of columns: 28\n"
     ]
    }
   ],
   "source": [
    "df_imputed.to_csv('CO2 Emissions_Canada_cleaned_removed_outliers_after_encoding.csv')\n",
    "print(\"Number of rows:\", df.shape[0])\n",
    "print(\"Number of columns:\", df.shape[1])"
   ]
  },
  {
   "cell_type": "code",
   "execution_count": 13,
   "id": "499c6a74",
   "metadata": {},
   "outputs": [
    {
     "name": "stdout",
     "output_type": "stream",
     "text": [
      "Unique values per column:\n",
      " Engine Size(L)                             49\n",
      "Cylinders                                   7\n",
      "Fuel Consumption Comb (L/100 km)          165\n",
      "Fuel Consumption Comb (mpg)                49\n",
      "Number of Gears                             7\n",
      "Vehicle Class_FULL-SIZE                     2\n",
      "Vehicle Class_MID-SIZE                      2\n",
      "Vehicle Class_MINICOMPACT                   2\n",
      "Vehicle Class_MINIVAN                       2\n",
      "Vehicle Class_PICKUP TRUCK - SMALL          2\n",
      "Vehicle Class_PICKUP TRUCK - STANDARD       2\n",
      "Vehicle Class_SPECIAL PURPOSE VEHICLE       2\n",
      "Vehicle Class_STATION WAGON - MID-SIZE      2\n",
      "Vehicle Class_STATION WAGON - SMALL         2\n",
      "Vehicle Class_SUBCOMPACT                    2\n",
      "Vehicle Class_SUV - SMALL                   2\n",
      "Vehicle Class_SUV - STANDARD                2\n",
      "Vehicle Class_TWO-SEATER                    2\n",
      "Vehicle Class_VAN - CARGO                   2\n",
      "Vehicle Class_VAN - PASSENGER               2\n",
      "Transmission_AM                             2\n",
      "Transmission_AS                             2\n",
      "Transmission_AV                             2\n",
      "Transmission_M                              2\n",
      "Fuel Type_E                                 2\n",
      "Fuel Type_N                                 2\n",
      "Fuel Type_X                                 2\n",
      "Fuel Type_Z                                 2\n",
      "dtype: int64\n"
     ]
    }
   ],
   "source": [
    "# display the number of unique values in each column\n",
    "print(\"Unique values per column:\\n\", df_imputed.nunique())"
   ]
  },
  {
   "cell_type": "code",
   "execution_count": 12,
   "id": "7290039d",
   "metadata": {},
   "outputs": [
    {
     "ename": "KeyError",
     "evalue": "\"['CO2 Emissions(g/km)'] not found in axis\"",
     "output_type": "error",
     "traceback": [
      "\u001b[0;31m---------------------------------------------------------------------------\u001b[0m",
      "\u001b[0;31mKeyError\u001b[0m                                  Traceback (most recent call last)",
      "Cell \u001b[0;32mIn[12], line 10\u001b[0m\n\u001b[1;32m      7\u001b[0m df_imputed \u001b[38;5;241m=\u001b[39m pd\u001b[38;5;241m.\u001b[39mread_csv(\u001b[38;5;124m'\u001b[39m\u001b[38;5;124mCO2 Emissions_Canada_cleaned_removed_outliers_after_encoding.csv\u001b[39m\u001b[38;5;124m'\u001b[39m)\n\u001b[1;32m      9\u001b[0m \u001b[38;5;66;03m# Separate the features and the target variable\u001b[39;00m\n\u001b[0;32m---> 10\u001b[0m X \u001b[38;5;241m=\u001b[39m df_imputed\u001b[38;5;241m.\u001b[39mdrop(\u001b[38;5;124m'\u001b[39m\u001b[38;5;124mCO2 Emissions(g/km)\u001b[39m\u001b[38;5;124m'\u001b[39m, axis\u001b[38;5;241m=\u001b[39m\u001b[38;5;241m1\u001b[39m)  \u001b[38;5;66;03m# Features\u001b[39;00m\n\u001b[1;32m     11\u001b[0m y \u001b[38;5;241m=\u001b[39m df_imputed[\u001b[38;5;124m'\u001b[39m\u001b[38;5;124mCO2 Emissions(g/km)\u001b[39m\u001b[38;5;124m'\u001b[39m ]  \u001b[38;5;66;03m# Target variable\u001b[39;00m\n\u001b[1;32m     13\u001b[0m \u001b[38;5;66;03m# Splitting the dataset into the Training set and Test set\u001b[39;00m\n",
      "File \u001b[0;32m~/anaconda3/lib/python3.11/site-packages/pandas/util/_decorators.py:331\u001b[0m, in \u001b[0;36mdeprecate_nonkeyword_arguments.<locals>.decorate.<locals>.wrapper\u001b[0;34m(*args, **kwargs)\u001b[0m\n\u001b[1;32m    325\u001b[0m \u001b[38;5;28;01mif\u001b[39;00m \u001b[38;5;28mlen\u001b[39m(args) \u001b[38;5;241m>\u001b[39m num_allow_args:\n\u001b[1;32m    326\u001b[0m     warnings\u001b[38;5;241m.\u001b[39mwarn(\n\u001b[1;32m    327\u001b[0m         msg\u001b[38;5;241m.\u001b[39mformat(arguments\u001b[38;5;241m=\u001b[39m_format_argument_list(allow_args)),\n\u001b[1;32m    328\u001b[0m         \u001b[38;5;167;01mFutureWarning\u001b[39;00m,\n\u001b[1;32m    329\u001b[0m         stacklevel\u001b[38;5;241m=\u001b[39mfind_stack_level(),\n\u001b[1;32m    330\u001b[0m     )\n\u001b[0;32m--> 331\u001b[0m \u001b[38;5;28;01mreturn\u001b[39;00m func(\u001b[38;5;241m*\u001b[39margs, \u001b[38;5;241m*\u001b[39m\u001b[38;5;241m*\u001b[39mkwargs)\n",
      "File \u001b[0;32m~/anaconda3/lib/python3.11/site-packages/pandas/core/frame.py:5399\u001b[0m, in \u001b[0;36mDataFrame.drop\u001b[0;34m(self, labels, axis, index, columns, level, inplace, errors)\u001b[0m\n\u001b[1;32m   5251\u001b[0m \u001b[38;5;129m@deprecate_nonkeyword_arguments\u001b[39m(version\u001b[38;5;241m=\u001b[39m\u001b[38;5;28;01mNone\u001b[39;00m, allowed_args\u001b[38;5;241m=\u001b[39m[\u001b[38;5;124m\"\u001b[39m\u001b[38;5;124mself\u001b[39m\u001b[38;5;124m\"\u001b[39m, \u001b[38;5;124m\"\u001b[39m\u001b[38;5;124mlabels\u001b[39m\u001b[38;5;124m\"\u001b[39m])\n\u001b[1;32m   5252\u001b[0m \u001b[38;5;28;01mdef\u001b[39;00m \u001b[38;5;21mdrop\u001b[39m(  \u001b[38;5;66;03m# type: ignore[override]\u001b[39;00m\n\u001b[1;32m   5253\u001b[0m     \u001b[38;5;28mself\u001b[39m,\n\u001b[0;32m   (...)\u001b[0m\n\u001b[1;32m   5260\u001b[0m     errors: IgnoreRaise \u001b[38;5;241m=\u001b[39m \u001b[38;5;124m\"\u001b[39m\u001b[38;5;124mraise\u001b[39m\u001b[38;5;124m\"\u001b[39m,\n\u001b[1;32m   5261\u001b[0m ) \u001b[38;5;241m-\u001b[39m\u001b[38;5;241m>\u001b[39m DataFrame \u001b[38;5;241m|\u001b[39m \u001b[38;5;28;01mNone\u001b[39;00m:\n\u001b[1;32m   5262\u001b[0m \u001b[38;5;250m    \u001b[39m\u001b[38;5;124;03m\"\"\"\u001b[39;00m\n\u001b[1;32m   5263\u001b[0m \u001b[38;5;124;03m    Drop specified labels from rows or columns.\u001b[39;00m\n\u001b[1;32m   5264\u001b[0m \n\u001b[0;32m   (...)\u001b[0m\n\u001b[1;32m   5397\u001b[0m \u001b[38;5;124;03m            weight  1.0     0.8\u001b[39;00m\n\u001b[1;32m   5398\u001b[0m \u001b[38;5;124;03m    \"\"\"\u001b[39;00m\n\u001b[0;32m-> 5399\u001b[0m     \u001b[38;5;28;01mreturn\u001b[39;00m \u001b[38;5;28msuper\u001b[39m()\u001b[38;5;241m.\u001b[39mdrop(\n\u001b[1;32m   5400\u001b[0m         labels\u001b[38;5;241m=\u001b[39mlabels,\n\u001b[1;32m   5401\u001b[0m         axis\u001b[38;5;241m=\u001b[39maxis,\n\u001b[1;32m   5402\u001b[0m         index\u001b[38;5;241m=\u001b[39mindex,\n\u001b[1;32m   5403\u001b[0m         columns\u001b[38;5;241m=\u001b[39mcolumns,\n\u001b[1;32m   5404\u001b[0m         level\u001b[38;5;241m=\u001b[39mlevel,\n\u001b[1;32m   5405\u001b[0m         inplace\u001b[38;5;241m=\u001b[39minplace,\n\u001b[1;32m   5406\u001b[0m         errors\u001b[38;5;241m=\u001b[39merrors,\n\u001b[1;32m   5407\u001b[0m     )\n",
      "File \u001b[0;32m~/anaconda3/lib/python3.11/site-packages/pandas/util/_decorators.py:331\u001b[0m, in \u001b[0;36mdeprecate_nonkeyword_arguments.<locals>.decorate.<locals>.wrapper\u001b[0;34m(*args, **kwargs)\u001b[0m\n\u001b[1;32m    325\u001b[0m \u001b[38;5;28;01mif\u001b[39;00m \u001b[38;5;28mlen\u001b[39m(args) \u001b[38;5;241m>\u001b[39m num_allow_args:\n\u001b[1;32m    326\u001b[0m     warnings\u001b[38;5;241m.\u001b[39mwarn(\n\u001b[1;32m    327\u001b[0m         msg\u001b[38;5;241m.\u001b[39mformat(arguments\u001b[38;5;241m=\u001b[39m_format_argument_list(allow_args)),\n\u001b[1;32m    328\u001b[0m         \u001b[38;5;167;01mFutureWarning\u001b[39;00m,\n\u001b[1;32m    329\u001b[0m         stacklevel\u001b[38;5;241m=\u001b[39mfind_stack_level(),\n\u001b[1;32m    330\u001b[0m     )\n\u001b[0;32m--> 331\u001b[0m \u001b[38;5;28;01mreturn\u001b[39;00m func(\u001b[38;5;241m*\u001b[39margs, \u001b[38;5;241m*\u001b[39m\u001b[38;5;241m*\u001b[39mkwargs)\n",
      "File \u001b[0;32m~/anaconda3/lib/python3.11/site-packages/pandas/core/generic.py:4505\u001b[0m, in \u001b[0;36mNDFrame.drop\u001b[0;34m(self, labels, axis, index, columns, level, inplace, errors)\u001b[0m\n\u001b[1;32m   4503\u001b[0m \u001b[38;5;28;01mfor\u001b[39;00m axis, labels \u001b[38;5;129;01min\u001b[39;00m axes\u001b[38;5;241m.\u001b[39mitems():\n\u001b[1;32m   4504\u001b[0m     \u001b[38;5;28;01mif\u001b[39;00m labels \u001b[38;5;129;01mis\u001b[39;00m \u001b[38;5;129;01mnot\u001b[39;00m \u001b[38;5;28;01mNone\u001b[39;00m:\n\u001b[0;32m-> 4505\u001b[0m         obj \u001b[38;5;241m=\u001b[39m obj\u001b[38;5;241m.\u001b[39m_drop_axis(labels, axis, level\u001b[38;5;241m=\u001b[39mlevel, errors\u001b[38;5;241m=\u001b[39merrors)\n\u001b[1;32m   4507\u001b[0m \u001b[38;5;28;01mif\u001b[39;00m inplace:\n\u001b[1;32m   4508\u001b[0m     \u001b[38;5;28mself\u001b[39m\u001b[38;5;241m.\u001b[39m_update_inplace(obj)\n",
      "File \u001b[0;32m~/anaconda3/lib/python3.11/site-packages/pandas/core/generic.py:4546\u001b[0m, in \u001b[0;36mNDFrame._drop_axis\u001b[0;34m(self, labels, axis, level, errors, only_slice)\u001b[0m\n\u001b[1;32m   4544\u001b[0m         new_axis \u001b[38;5;241m=\u001b[39m axis\u001b[38;5;241m.\u001b[39mdrop(labels, level\u001b[38;5;241m=\u001b[39mlevel, errors\u001b[38;5;241m=\u001b[39merrors)\n\u001b[1;32m   4545\u001b[0m     \u001b[38;5;28;01melse\u001b[39;00m:\n\u001b[0;32m-> 4546\u001b[0m         new_axis \u001b[38;5;241m=\u001b[39m axis\u001b[38;5;241m.\u001b[39mdrop(labels, errors\u001b[38;5;241m=\u001b[39merrors)\n\u001b[1;32m   4547\u001b[0m     indexer \u001b[38;5;241m=\u001b[39m axis\u001b[38;5;241m.\u001b[39mget_indexer(new_axis)\n\u001b[1;32m   4549\u001b[0m \u001b[38;5;66;03m# Case for non-unique axis\u001b[39;00m\n\u001b[1;32m   4550\u001b[0m \u001b[38;5;28;01melse\u001b[39;00m:\n",
      "File \u001b[0;32m~/anaconda3/lib/python3.11/site-packages/pandas/core/indexes/base.py:6934\u001b[0m, in \u001b[0;36mIndex.drop\u001b[0;34m(self, labels, errors)\u001b[0m\n\u001b[1;32m   6932\u001b[0m \u001b[38;5;28;01mif\u001b[39;00m mask\u001b[38;5;241m.\u001b[39many():\n\u001b[1;32m   6933\u001b[0m     \u001b[38;5;28;01mif\u001b[39;00m errors \u001b[38;5;241m!=\u001b[39m \u001b[38;5;124m\"\u001b[39m\u001b[38;5;124mignore\u001b[39m\u001b[38;5;124m\"\u001b[39m:\n\u001b[0;32m-> 6934\u001b[0m         \u001b[38;5;28;01mraise\u001b[39;00m \u001b[38;5;167;01mKeyError\u001b[39;00m(\u001b[38;5;124mf\u001b[39m\u001b[38;5;124m\"\u001b[39m\u001b[38;5;132;01m{\u001b[39;00m\u001b[38;5;28mlist\u001b[39m(labels[mask])\u001b[38;5;132;01m}\u001b[39;00m\u001b[38;5;124m not found in axis\u001b[39m\u001b[38;5;124m\"\u001b[39m)\n\u001b[1;32m   6935\u001b[0m     indexer \u001b[38;5;241m=\u001b[39m indexer[\u001b[38;5;241m~\u001b[39mmask]\n\u001b[1;32m   6936\u001b[0m \u001b[38;5;28;01mreturn\u001b[39;00m \u001b[38;5;28mself\u001b[39m\u001b[38;5;241m.\u001b[39mdelete(indexer)\n",
      "\u001b[0;31mKeyError\u001b[0m: \"['CO2 Emissions(g/km)'] not found in axis\""
     ]
    }
   ],
   "source": [
    "\n"
   ]
  },
  {
   "cell_type": "code",
   "execution_count": null,
   "id": "7dfd8832",
   "metadata": {},
   "outputs": [],
   "source": []
  }
 ],
 "metadata": {
  "kernelspec": {
   "display_name": "Python 3 (ipykernel)",
   "language": "python",
   "name": "python3"
  },
  "language_info": {
   "codemirror_mode": {
    "name": "ipython",
    "version": 3
   },
   "file_extension": ".py",
   "mimetype": "text/x-python",
   "name": "python",
   "nbconvert_exporter": "python",
   "pygments_lexer": "ipython3",
   "version": "3.11.4"
  }
 },
 "nbformat": 4,
 "nbformat_minor": 5
}
