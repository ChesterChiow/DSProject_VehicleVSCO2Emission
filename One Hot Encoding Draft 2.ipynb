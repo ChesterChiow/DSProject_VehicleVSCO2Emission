{
 "cells": [
  {
   "cell_type": "markdown",
   "id": "0e43355a",
   "metadata": {},
   "source": [
    "# One Hot Encoding\n",
    "\n",
    "A machine learning technique to convert categorical data into columns of numerical data, allows us to better leverage information in categorical data to make predictions and to understand the patterns. \n",
    "\n",
    "How it works: Each binary variable represents one category from the original variable. It is also when the integer encoded variables are removed and a new binary variable is added for each unique integer value. \n",
    "\n",
    "Eg. Colour columns might give \"red\" [1,0,0] \n",
    "                              \"green\" [0,1,0]\n",
    "                              \"blue\" [0,0,1] \n",
    "\n",
    "Subsequently, with the new columns created from one hot encoding, we plan to carry out linear regression with all the data available. \n",
    "\n",
    "Advantages of using one hot encoding is when there is no ordeal relationship such as Fuel Type Z,D,X,E,N, can still harness a relationship. \n",
    "\n"
   ]
  },
  {
   "cell_type": "markdown",
   "id": "2580f4b7",
   "metadata": {},
   "source": [
    "Our categorical variables : \n",
    "    Vehicle Class,Engine Size, Cylinders, Transmission,Fuel Type that we plan to do encoding on since only these variables have unique and similar values \n",
    "    "
   ]
  },
  {
   "cell_type": "markdown",
   "id": "91aa3344",
   "metadata": {},
   "source": [
    "### Import Essential Libraries\n",
    "\n",
    "> NumPy : Library for Numeric Computations in Python  \n",
    "> Pandas : Library for Data Acquisition and Preparation  \n",
    "> Matplotlib : Low-level library for Data Visualization  \n",
    "> Seaborn : Higher-level library for Data Visualization"
   ]
  },
  {
   "cell_type": "code",
   "execution_count": 11,
   "id": "bbae18b7",
   "metadata": {},
   "outputs": [],
   "source": [
    "import numpy as np\n",
    "import pandas as pd\n",
    "import seaborn as sb\n",
    "import matplotlib.pyplot as plt\n",
    "from sklearn.model_selection import train_test_split\n",
    "from sklearn.linear_model import LinearRegression\n",
    "from sklearn.metrics import mean_squared_error\n",
    "from sklearn.impute import SimpleImputer\n"
   ]
  },
  {
   "cell_type": "markdown",
   "id": "947a89d8",
   "metadata": {},
   "source": [
    "## Import the cleaned dataset with no outliers & checking of data"
   ]
  },
  {
   "cell_type": "code",
   "execution_count": 12,
   "id": "5fde57b8",
   "metadata": {},
   "outputs": [
    {
     "name": "stdout",
     "output_type": "stream",
     "text": [
      "Number of rows: 6197\n",
      "Number of columns: 12\n"
     ]
    }
   ],
   "source": [
    "df = pd.read_csv('CO2 Emissions_Canada__cleaned_removed_outliers.csv')\n",
    "df.drop(df.columns[0], axis=1, inplace=True)\n",
    "\n",
    "print(\"Number of rows:\", df.shape[0])\n",
    "print(\"Number of columns:\", df.shape[1])\n"
   ]
  },
  {
   "cell_type": "code",
   "execution_count": 13,
   "id": "c6cd2cea",
   "metadata": {},
   "outputs": [
    {
     "data": {
      "text/html": [
       "<div>\n",
       "<style scoped>\n",
       "    .dataframe tbody tr th:only-of-type {\n",
       "        vertical-align: middle;\n",
       "    }\n",
       "\n",
       "    .dataframe tbody tr th {\n",
       "        vertical-align: top;\n",
       "    }\n",
       "\n",
       "    .dataframe thead th {\n",
       "        text-align: right;\n",
       "    }\n",
       "</style>\n",
       "<table border=\"1\" class=\"dataframe\">\n",
       "  <thead>\n",
       "    <tr style=\"text-align: right;\">\n",
       "      <th></th>\n",
       "      <th>Make</th>\n",
       "      <th>Model</th>\n",
       "      <th>Vehicle Class</th>\n",
       "      <th>Engine Size(L)</th>\n",
       "      <th>Cylinders</th>\n",
       "      <th>Transmission</th>\n",
       "      <th>Fuel Type</th>\n",
       "      <th>Fuel Consumption City (L/100 km)</th>\n",
       "      <th>Fuel Consumption Hwy (L/100 km)</th>\n",
       "      <th>Fuel Consumption Comb (L/100 km)</th>\n",
       "      <th>CO2 Emissions(g/km)</th>\n",
       "      <th>Number of Gears</th>\n",
       "    </tr>\n",
       "  </thead>\n",
       "  <tbody>\n",
       "    <tr>\n",
       "      <th>0</th>\n",
       "      <td>ACURA</td>\n",
       "      <td>ILX</td>\n",
       "      <td>COMPACT</td>\n",
       "      <td>2.0</td>\n",
       "      <td>4</td>\n",
       "      <td>AS</td>\n",
       "      <td>Z</td>\n",
       "      <td>9.9</td>\n",
       "      <td>6.7</td>\n",
       "      <td>8.5</td>\n",
       "      <td>196</td>\n",
       "      <td>5.0</td>\n",
       "    </tr>\n",
       "    <tr>\n",
       "      <th>1</th>\n",
       "      <td>ACURA</td>\n",
       "      <td>ILX</td>\n",
       "      <td>COMPACT</td>\n",
       "      <td>2.4</td>\n",
       "      <td>4</td>\n",
       "      <td>M</td>\n",
       "      <td>Z</td>\n",
       "      <td>11.2</td>\n",
       "      <td>7.7</td>\n",
       "      <td>9.6</td>\n",
       "      <td>221</td>\n",
       "      <td>6.0</td>\n",
       "    </tr>\n",
       "    <tr>\n",
       "      <th>2</th>\n",
       "      <td>ACURA</td>\n",
       "      <td>ILX HYBRID</td>\n",
       "      <td>COMPACT</td>\n",
       "      <td>1.5</td>\n",
       "      <td>4</td>\n",
       "      <td>AV</td>\n",
       "      <td>Z</td>\n",
       "      <td>6.0</td>\n",
       "      <td>5.8</td>\n",
       "      <td>5.9</td>\n",
       "      <td>136</td>\n",
       "      <td>7.0</td>\n",
       "    </tr>\n",
       "    <tr>\n",
       "      <th>3</th>\n",
       "      <td>ACURA</td>\n",
       "      <td>MDX 4WD</td>\n",
       "      <td>SUV - SMALL</td>\n",
       "      <td>3.5</td>\n",
       "      <td>6</td>\n",
       "      <td>AS</td>\n",
       "      <td>Z</td>\n",
       "      <td>12.7</td>\n",
       "      <td>9.1</td>\n",
       "      <td>11.1</td>\n",
       "      <td>255</td>\n",
       "      <td>6.0</td>\n",
       "    </tr>\n",
       "    <tr>\n",
       "      <th>4</th>\n",
       "      <td>ACURA</td>\n",
       "      <td>RDX AWD</td>\n",
       "      <td>SUV - SMALL</td>\n",
       "      <td>3.5</td>\n",
       "      <td>6</td>\n",
       "      <td>AS</td>\n",
       "      <td>Z</td>\n",
       "      <td>12.1</td>\n",
       "      <td>8.7</td>\n",
       "      <td>10.6</td>\n",
       "      <td>244</td>\n",
       "      <td>6.0</td>\n",
       "    </tr>\n",
       "  </tbody>\n",
       "</table>\n",
       "</div>"
      ],
      "text/plain": [
       "    Make       Model Vehicle Class  Engine Size(L)  Cylinders Transmission  \\\n",
       "0  ACURA         ILX       COMPACT             2.0          4           AS   \n",
       "1  ACURA         ILX       COMPACT             2.4          4            M   \n",
       "2  ACURA  ILX HYBRID       COMPACT             1.5          4           AV   \n",
       "3  ACURA     MDX 4WD   SUV - SMALL             3.5          6           AS   \n",
       "4  ACURA     RDX AWD   SUV - SMALL             3.5          6           AS   \n",
       "\n",
       "  Fuel Type  Fuel Consumption City (L/100 km)  \\\n",
       "0         Z                               9.9   \n",
       "1         Z                              11.2   \n",
       "2         Z                               6.0   \n",
       "3         Z                              12.7   \n",
       "4         Z                              12.1   \n",
       "\n",
       "   Fuel Consumption Hwy (L/100 km)  Fuel Consumption Comb (L/100 km)  \\\n",
       "0                              6.7                               8.5   \n",
       "1                              7.7                               9.6   \n",
       "2                              5.8                               5.9   \n",
       "3                              9.1                              11.1   \n",
       "4                              8.7                              10.6   \n",
       "\n",
       "   CO2 Emissions(g/km)  Number of Gears  \n",
       "0                  196              5.0  \n",
       "1                  221              6.0  \n",
       "2                  136              7.0  \n",
       "3                  255              6.0  \n",
       "4                  244              6.0  "
      ]
     },
     "execution_count": 13,
     "metadata": {},
     "output_type": "execute_result"
    }
   ],
   "source": [
    "df.head()"
   ]
  },
  {
   "cell_type": "markdown",
   "id": "5b5c76be",
   "metadata": {},
   "source": [
    "## One-hot encoding \n",
    "Viewing of all the categorical data, except 'Make' and 'Model' as explained in our EDA\n"
   ]
  },
  {
   "cell_type": "markdown",
   "id": "2f129355",
   "metadata": {},
   "source": [
    "### Predictive Model\n",
    "\n",
    "\n",
    "We need all the data to be numerical.\n",
    "We can use the\n",
    "function pertaining to pandas."
   ]
  },
  {
   "cell_type": "markdown",
   "id": "71fc6966",
   "metadata": {},
   "source": [
    " might not want to include : Count the number of times a unique value appear in fuel type for a sample"
   ]
  },
  {
   "cell_type": "code",
   "execution_count": 14,
   "id": "f641e9b9",
   "metadata": {},
   "outputs": [
    {
     "name": "stdout",
     "output_type": "stream",
     "text": [
      "Number of 'N' values in the 'Fuel Type' column: 1\n"
     ]
    }
   ],
   "source": [
    "n_values_count = df['Fuel Type'].value_counts()\n",
    "\n",
    "# Display the count of 'N' values\n",
    "print(\"Number of 'N' values in the 'Fuel Type' column:\", n_values_count.get('N', 0))"
   ]
  },
  {
   "cell_type": "markdown",
   "id": "7d2fd05f",
   "metadata": {},
   "source": [
    "Want to make a copy of the categorical values "
   ]
  },
  {
   "cell_type": "code",
   "execution_count": 15,
   "id": "49f0f187",
   "metadata": {},
   "outputs": [],
   "source": [
    "# Assuming 'df' is your original DataFrame\n",
    "# List of categorical column names\n",
    "categorical_columns = ['Vehicle Class', 'Cylinders', 'Transmission', 'Fuel Type']\n",
    "\n",
    "# Create a new DataFrame containing only the specified categorical columns from the original DataFrame\n",
    "categorical_df = df[categorical_columns].copy()\n",
    "\n",
    "# Now, 'categorical_df' is a new DataFrame containing only the categorical data\n"
   ]
  },
  {
   "cell_type": "code",
   "execution_count": 16,
   "id": "0509e308",
   "metadata": {},
   "outputs": [
    {
     "name": "stdout",
     "output_type": "stream",
     "text": [
      "  Vehicle Class  Cylinders Transmission Fuel Type\n",
      "0       COMPACT          4           AS         Z\n",
      "1       COMPACT          4            M         Z\n",
      "2       COMPACT          4           AV         Z\n",
      "3   SUV - SMALL          6           AS         Z\n",
      "4   SUV - SMALL          6           AS         Z\n",
      "5      MID-SIZE          6           AS         Z\n",
      "6      MID-SIZE          6           AS         Z\n",
      "7      MID-SIZE          6           AS         Z\n",
      "8      MID-SIZE          6            M         Z\n",
      "9       COMPACT          4           AS         Z\n"
     ]
    }
   ],
   "source": [
    "print(categorical_df.head(10))\n"
   ]
  },
  {
   "cell_type": "markdown",
   "id": "f874e59d",
   "metadata": {},
   "source": [
    "## One-hot encoding \n",
    "Viewing of all the unique values in each section of categorical data. "
   ]
  },
  {
   "cell_type": "code",
   "execution_count": 17,
   "id": "9391bffb",
   "metadata": {},
   "outputs": [
    {
     "name": "stdout",
     "output_type": "stream",
     "text": [
      "Unique values before encoding: \n",
      "Vehicle Class : ['COMPACT' 'SUV - SMALL' 'MID-SIZE' 'TWO-SEATER' 'MINICOMPACT'\n",
      " 'SUBCOMPACT' 'FULL-SIZE' 'STATION WAGON - SMALL' 'SUV - STANDARD'\n",
      " 'VAN - CARGO' 'VAN - PASSENGER' 'PICKUP TRUCK - STANDARD' 'MINIVAN'\n",
      " 'SPECIAL PURPOSE VEHICLE' 'STATION WAGON - MID-SIZE'\n",
      " 'PICKUP TRUCK - SMALL']\n",
      "Number of unique values: 16\n",
      "Cylinders : [ 4  6 12  8 10  3  5]\n",
      "Number of unique values: 7\n",
      "Transmission : ['AS' 'M' 'AV' 'AM' 'A']\n",
      "Number of unique values: 5\n",
      "Fuel Type : ['Z' 'D' 'X' 'E' 'N']\n",
      "Number of unique values: 5\n"
     ]
    }
   ],
   "source": [
    "# display unique values of categorical columns before encoding\n",
    "print(\"Unique values before encoding: \")\n",
    "for column in categorical_columns:\n",
    "    print(column, \":\", df[column].unique())\n",
    "    # Add this line to display the number of unique values\n",
    "    print(\"Number of unique values:\", df[column].nunique())\n"
   ]
  },
  {
   "cell_type": "markdown",
   "id": "9c6e986b",
   "metadata": {},
   "source": [
    "Number of unique values in all the columns = 33 "
   ]
  },
  {
   "cell_type": "markdown",
   "id": "e4b745b6",
   "metadata": {},
   "source": [
    "### Applying one hot encoding to variables such as Vehicle Class, Cylinder, Transmission, Fuel Type. \n"
   ]
  },
  {
   "cell_type": "markdown",
   "id": "b80bb9a5",
   "metadata": {},
   "source": [
    "### To add all the neccessary data variables of categorical after encoding and numerical data.\n",
    "\n",
    "We focus on the specifications of the car, by including\n",
    "\n",
    "Numerical : Engine size(L), Fuel Consumption Comb(L/100km), Number of Gears\n",
    "\n",
    "\n",
    "Categorical:\n",
    "            Vehicle Class (FULL-SIZE,MID-SIZE,MINICOMPACT, MINIVAN, TRUCK-SMALL..)\n",
    "            Cylinders (10/12)\n",
    "            Transmission(AM, AS, AV, M)\n",
    "            Fuel Type(E,N,X,Z)"
   ]
  },
  {
   "cell_type": "code",
   "execution_count": 18,
   "id": "23befa2f",
   "metadata": {},
   "outputs": [
    {
     "name": "stdout",
     "output_type": "stream",
     "text": [
      "Number of rows before dropping the necessary: 6197\n",
      "Number of rows after dropping necessary': 6197\n"
     ]
    },
    {
     "data": {
      "text/html": [
       "<div>\n",
       "<style scoped>\n",
       "    .dataframe tbody tr th:only-of-type {\n",
       "        vertical-align: middle;\n",
       "    }\n",
       "\n",
       "    .dataframe tbody tr th {\n",
       "        vertical-align: top;\n",
       "    }\n",
       "\n",
       "    .dataframe thead th {\n",
       "        text-align: right;\n",
       "    }\n",
       "</style>\n",
       "<table border=\"1\" class=\"dataframe\">\n",
       "  <thead>\n",
       "    <tr style=\"text-align: right;\">\n",
       "      <th></th>\n",
       "      <th>Engine Size(L)</th>\n",
       "      <th>Fuel Consumption Comb (L/100 km)</th>\n",
       "      <th>Number of Gears</th>\n",
       "      <th>Vehicle Class_FULL-SIZE</th>\n",
       "      <th>Vehicle Class_MID-SIZE</th>\n",
       "      <th>Vehicle Class_MINICOMPACT</th>\n",
       "      <th>Vehicle Class_MINIVAN</th>\n",
       "      <th>Vehicle Class_PICKUP TRUCK - SMALL</th>\n",
       "      <th>Vehicle Class_PICKUP TRUCK - STANDARD</th>\n",
       "      <th>Vehicle Class_SPECIAL PURPOSE VEHICLE</th>\n",
       "      <th>...</th>\n",
       "      <th>Cylinders_10</th>\n",
       "      <th>Cylinders_12</th>\n",
       "      <th>Transmission_AM</th>\n",
       "      <th>Transmission_AS</th>\n",
       "      <th>Transmission_AV</th>\n",
       "      <th>Transmission_M</th>\n",
       "      <th>Fuel Type_E</th>\n",
       "      <th>Fuel Type_N</th>\n",
       "      <th>Fuel Type_X</th>\n",
       "      <th>Fuel Type_Z</th>\n",
       "    </tr>\n",
       "  </thead>\n",
       "  <tbody>\n",
       "    <tr>\n",
       "      <th>0</th>\n",
       "      <td>2.0</td>\n",
       "      <td>8.5</td>\n",
       "      <td>5.0</td>\n",
       "      <td>0.0</td>\n",
       "      <td>0.0</td>\n",
       "      <td>0.0</td>\n",
       "      <td>0.0</td>\n",
       "      <td>0.0</td>\n",
       "      <td>0.0</td>\n",
       "      <td>0.0</td>\n",
       "      <td>...</td>\n",
       "      <td>0.0</td>\n",
       "      <td>0.0</td>\n",
       "      <td>0.0</td>\n",
       "      <td>1.0</td>\n",
       "      <td>0.0</td>\n",
       "      <td>0.0</td>\n",
       "      <td>0.0</td>\n",
       "      <td>0.0</td>\n",
       "      <td>0.0</td>\n",
       "      <td>1.0</td>\n",
       "    </tr>\n",
       "    <tr>\n",
       "      <th>1</th>\n",
       "      <td>2.4</td>\n",
       "      <td>9.6</td>\n",
       "      <td>6.0</td>\n",
       "      <td>0.0</td>\n",
       "      <td>0.0</td>\n",
       "      <td>0.0</td>\n",
       "      <td>0.0</td>\n",
       "      <td>0.0</td>\n",
       "      <td>0.0</td>\n",
       "      <td>0.0</td>\n",
       "      <td>...</td>\n",
       "      <td>0.0</td>\n",
       "      <td>0.0</td>\n",
       "      <td>0.0</td>\n",
       "      <td>0.0</td>\n",
       "      <td>0.0</td>\n",
       "      <td>1.0</td>\n",
       "      <td>0.0</td>\n",
       "      <td>0.0</td>\n",
       "      <td>0.0</td>\n",
       "      <td>1.0</td>\n",
       "    </tr>\n",
       "    <tr>\n",
       "      <th>2</th>\n",
       "      <td>1.5</td>\n",
       "      <td>5.9</td>\n",
       "      <td>7.0</td>\n",
       "      <td>0.0</td>\n",
       "      <td>0.0</td>\n",
       "      <td>0.0</td>\n",
       "      <td>0.0</td>\n",
       "      <td>0.0</td>\n",
       "      <td>0.0</td>\n",
       "      <td>0.0</td>\n",
       "      <td>...</td>\n",
       "      <td>0.0</td>\n",
       "      <td>0.0</td>\n",
       "      <td>0.0</td>\n",
       "      <td>0.0</td>\n",
       "      <td>1.0</td>\n",
       "      <td>0.0</td>\n",
       "      <td>0.0</td>\n",
       "      <td>0.0</td>\n",
       "      <td>0.0</td>\n",
       "      <td>1.0</td>\n",
       "    </tr>\n",
       "    <tr>\n",
       "      <th>3</th>\n",
       "      <td>3.5</td>\n",
       "      <td>11.1</td>\n",
       "      <td>6.0</td>\n",
       "      <td>0.0</td>\n",
       "      <td>0.0</td>\n",
       "      <td>0.0</td>\n",
       "      <td>0.0</td>\n",
       "      <td>0.0</td>\n",
       "      <td>0.0</td>\n",
       "      <td>0.0</td>\n",
       "      <td>...</td>\n",
       "      <td>0.0</td>\n",
       "      <td>0.0</td>\n",
       "      <td>0.0</td>\n",
       "      <td>1.0</td>\n",
       "      <td>0.0</td>\n",
       "      <td>0.0</td>\n",
       "      <td>0.0</td>\n",
       "      <td>0.0</td>\n",
       "      <td>0.0</td>\n",
       "      <td>1.0</td>\n",
       "    </tr>\n",
       "    <tr>\n",
       "      <th>4</th>\n",
       "      <td>3.5</td>\n",
       "      <td>10.6</td>\n",
       "      <td>6.0</td>\n",
       "      <td>0.0</td>\n",
       "      <td>0.0</td>\n",
       "      <td>0.0</td>\n",
       "      <td>0.0</td>\n",
       "      <td>0.0</td>\n",
       "      <td>0.0</td>\n",
       "      <td>0.0</td>\n",
       "      <td>...</td>\n",
       "      <td>0.0</td>\n",
       "      <td>0.0</td>\n",
       "      <td>0.0</td>\n",
       "      <td>1.0</td>\n",
       "      <td>0.0</td>\n",
       "      <td>0.0</td>\n",
       "      <td>0.0</td>\n",
       "      <td>0.0</td>\n",
       "      <td>0.0</td>\n",
       "      <td>1.0</td>\n",
       "    </tr>\n",
       "  </tbody>\n",
       "</table>\n",
       "<p>5 rows × 32 columns</p>\n",
       "</div>"
      ],
      "text/plain": [
       "   Engine Size(L)  Fuel Consumption Comb (L/100 km)  Number of Gears  \\\n",
       "0             2.0                               8.5              5.0   \n",
       "1             2.4                               9.6              6.0   \n",
       "2             1.5                               5.9              7.0   \n",
       "3             3.5                              11.1              6.0   \n",
       "4             3.5                              10.6              6.0   \n",
       "\n",
       "   Vehicle Class_FULL-SIZE  Vehicle Class_MID-SIZE  Vehicle Class_MINICOMPACT  \\\n",
       "0                      0.0                     0.0                        0.0   \n",
       "1                      0.0                     0.0                        0.0   \n",
       "2                      0.0                     0.0                        0.0   \n",
       "3                      0.0                     0.0                        0.0   \n",
       "4                      0.0                     0.0                        0.0   \n",
       "\n",
       "   Vehicle Class_MINIVAN  Vehicle Class_PICKUP TRUCK - SMALL  \\\n",
       "0                    0.0                                 0.0   \n",
       "1                    0.0                                 0.0   \n",
       "2                    0.0                                 0.0   \n",
       "3                    0.0                                 0.0   \n",
       "4                    0.0                                 0.0   \n",
       "\n",
       "   Vehicle Class_PICKUP TRUCK - STANDARD  \\\n",
       "0                                    0.0   \n",
       "1                                    0.0   \n",
       "2                                    0.0   \n",
       "3                                    0.0   \n",
       "4                                    0.0   \n",
       "\n",
       "   Vehicle Class_SPECIAL PURPOSE VEHICLE  ...  Cylinders_10  Cylinders_12  \\\n",
       "0                                    0.0  ...           0.0           0.0   \n",
       "1                                    0.0  ...           0.0           0.0   \n",
       "2                                    0.0  ...           0.0           0.0   \n",
       "3                                    0.0  ...           0.0           0.0   \n",
       "4                                    0.0  ...           0.0           0.0   \n",
       "\n",
       "   Transmission_AM  Transmission_AS  Transmission_AV  Transmission_M  \\\n",
       "0              0.0              1.0              0.0             0.0   \n",
       "1              0.0              0.0              0.0             1.0   \n",
       "2              0.0              0.0              1.0             0.0   \n",
       "3              0.0              1.0              0.0             0.0   \n",
       "4              0.0              1.0              0.0             0.0   \n",
       "\n",
       "   Fuel Type_E  Fuel Type_N  Fuel Type_X  Fuel Type_Z  \n",
       "0          0.0          0.0          0.0          1.0  \n",
       "1          0.0          0.0          0.0          1.0  \n",
       "2          0.0          0.0          0.0          1.0  \n",
       "3          0.0          0.0          0.0          1.0  \n",
       "4          0.0          0.0          0.0          1.0  \n",
       "\n",
       "[5 rows x 32 columns]"
      ]
     },
     "execution_count": 18,
     "metadata": {},
     "output_type": "execute_result"
    }
   ],
   "source": [
    "import pandas as pd\n",
    "from sklearn.impute import SimpleImputer\n",
    "\n",
    "# Load and display the initial DataFrame\n",
    "df = pd.read_csv('CO2 Emissions_Canada__cleaned_removed_outliers.csv')\n",
    "df.drop(df.columns[0], axis=1, inplace=True)\n",
    "\n",
    "print(\"Number of rows before dropping the necessary:\", df.shape[0])\n",
    "\n",
    "# Save the target variable and then drop the columns 'Model', 'CO2 Emissions(g/km)', 'Make', 'Fuel Consumption City(L/100km)', 'Fuel Consumption Hwy(L/100km)'\n",
    "df.drop(['Model', 'CO2 Emissions(g/km)', 'Make', 'Fuel Consumption City (L/100 km)', 'Fuel Consumption Hwy (L/100 km)'], axis=1, inplace=True, errors='ignore')\n",
    "\n",
    "print(\"Number of rows after dropping necessary':\", df.shape[0])\n",
    "\n",
    "# List of remaining categorical column names to encode\n",
    "categorical_columns = ['Vehicle Class', 'Cylinders', 'Transmission', 'Fuel Type']\n",
    "\n",
    "# Perform one-hot encoding for the categorical data\n",
    "for column in categorical_columns:\n",
    "    dummies = pd.get_dummies(df[column], prefix=column, drop_first=True)\n",
    "    df.drop(column, axis=1, inplace=True)  # Drop the original column from df\n",
    "    df = df.join(dummies)  # Join the dummy columns to df\n",
    "\n",
    "# Impute missing values in the dataset\n",
    "imputer = SimpleImputer(strategy='median')\n",
    "df_imputed = pd.DataFrame(imputer.fit_transform(df), columns=df.columns)\n",
    "\n",
    "\n",
    "\n",
    "# At this point, the columns 'Fuel Consumption City(L/100km)' and 'Fuel Consumption Hwy(L/100km)' have already been removed.\n",
    "# Thus, the last drop statement is not needed. We can directly display the head of the imputed DataFrame.\n",
    "df_imputed.head()\n"
   ]
  },
  {
   "cell_type": "code",
   "execution_count": 19,
   "id": "65d00fbf",
   "metadata": {},
   "outputs": [
    {
     "name": "stdout",
     "output_type": "stream",
     "text": [
      "Number of rows: 6197\n",
      "Number of columns: 32\n"
     ]
    }
   ],
   "source": [
    "print(\"Number of rows:\", df_imputed.shape[0])\n",
    "print(\"Number of columns:\", df_imputed.shape[1])\n"
   ]
  },
  {
   "cell_type": "markdown",
   "id": "e0dbd634",
   "metadata": {},
   "source": [
    "By printing the number of rows and columns, the number of rows did not change which means that no data is lost during the process of dropping columns.  Additionally, the number of columns changed from 12 to 32, meaning that there are some columns created by changing unique categorical data to columns."
   ]
  },
  {
   "cell_type": "markdown",
   "id": "fbbf3e79",
   "metadata": {},
   "source": [
    "### Creation of a new CSV File with after one hot encoding"
   ]
  },
  {
   "cell_type": "code",
   "execution_count": 20,
   "id": "e85094d8",
   "metadata": {},
   "outputs": [
    {
     "name": "stdout",
     "output_type": "stream",
     "text": [
      "Number of rows: 6197\n",
      "Number of columns: 32\n"
     ]
    }
   ],
   "source": [
    "df_imputed.to_csv('CO2 Emissions_Canada_cleaned_removed_outliers_encoded.csv')\n",
    "print(\"Number of rows:\", df.shape[0])\n",
    "print(\"Number of columns:\", df.shape[1])"
   ]
  },
  {
   "cell_type": "code",
   "execution_count": 22,
   "id": "32aa3c22",
   "metadata": {},
   "outputs": [
    {
     "name": "stdout",
     "output_type": "stream",
     "text": [
      "Unique values per column:\n",
      " Engine Size(L)                             49\n",
      "Fuel Consumption Comb (L/100 km)          168\n",
      "Number of Gears                             7\n",
      "Vehicle Class_FULL-SIZE                     2\n",
      "Vehicle Class_MID-SIZE                      2\n",
      "Vehicle Class_MINICOMPACT                   2\n",
      "Vehicle Class_MINIVAN                       2\n",
      "Vehicle Class_PICKUP TRUCK - SMALL          2\n",
      "Vehicle Class_PICKUP TRUCK - STANDARD       2\n",
      "Vehicle Class_SPECIAL PURPOSE VEHICLE       2\n",
      "Vehicle Class_STATION WAGON - MID-SIZE      2\n",
      "Vehicle Class_STATION WAGON - SMALL         2\n",
      "Vehicle Class_SUBCOMPACT                    2\n",
      "Vehicle Class_SUV - SMALL                   2\n",
      "Vehicle Class_SUV - STANDARD                2\n",
      "Vehicle Class_TWO-SEATER                    2\n",
      "Vehicle Class_VAN - CARGO                   2\n",
      "Vehicle Class_VAN - PASSENGER               2\n",
      "Cylinders_4                                 2\n",
      "Cylinders_5                                 2\n",
      "Cylinders_6                                 2\n",
      "Cylinders_8                                 2\n",
      "Cylinders_10                                2\n",
      "Cylinders_12                                2\n",
      "Transmission_AM                             2\n",
      "Transmission_AS                             2\n",
      "Transmission_AV                             2\n",
      "Transmission_M                              2\n",
      "Fuel Type_E                                 2\n",
      "Fuel Type_N                                 2\n",
      "Fuel Type_X                                 2\n",
      "Fuel Type_Z                                 2\n",
      "dtype: int64\n"
     ]
    }
   ],
   "source": [
    "# Add this line to display the number of unique values in each column\n",
    "print(\"Unique values per column:\\n\", df_imputed.nunique())\n"
   ]
  },
  {
   "cell_type": "code",
   "execution_count": null,
   "id": "b3651f00",
   "metadata": {},
   "outputs": [],
   "source": []
  },
  {
   "cell_type": "code",
   "execution_count": null,
   "id": "27022aea",
   "metadata": {},
   "outputs": [],
   "source": []
  },
  {
   "cell_type": "code",
   "execution_count": null,
   "id": "5f8c8f14",
   "metadata": {},
   "outputs": [],
   "source": []
  }
 ],
 "metadata": {
  "kernelspec": {
   "display_name": "Python 3 (ipykernel)",
   "language": "python",
   "name": "python3"
  },
  "language_info": {
   "codemirror_mode": {
    "name": "ipython",
    "version": 3
   },
   "file_extension": ".py",
   "mimetype": "text/x-python",
   "name": "python",
   "nbconvert_exporter": "python",
   "pygments_lexer": "ipython3",
   "version": "3.11.4"
  }
 },
 "nbformat": 4,
 "nbformat_minor": 5
}
